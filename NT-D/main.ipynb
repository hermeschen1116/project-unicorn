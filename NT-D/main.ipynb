{
 "cells": [
  {
   "cell_type": "code",
   "execution_count": 3,
   "outputs": [],
   "source": [
    "import numpy as np\n",
    "import pandas as pd"
   ],
   "metadata": {
    "collapsed": false
   }
  },
  {
   "cell_type": "code",
   "execution_count": 36,
   "outputs": [],
   "source": [
    "data = pd.read_csv('source/source.csv', encoding='utf-8', sep=',')"
   ],
   "metadata": {
    "collapsed": false
   }
  },
  {
   "cell_type": "code",
   "execution_count": 37,
   "outputs": [
    {
     "name": "stdout",
     "output_type": "stream",
     "text": [
      "<class 'pandas.core.frame.DataFrame'>\n",
      "RangeIndex: 8991 entries, 0 to 8990\n",
      "Data columns (total 11 columns):\n",
      " #   Column            Non-Null Count  Dtype  \n",
      "---  ------            --------------  -----  \n",
      " 0   Company           8991 non-null   object \n",
      " 1   Founded Year      8725 non-null   float64\n",
      " 2   City              8171 non-null   object \n",
      " 3   Nation            8171 non-null   object \n",
      " 4   Industry          8280 non-null   object \n",
      " 5   Founder           6450 non-null   object \n",
      " 6   Investor          5273 non-null   object \n",
      " 7   Total Founding    4502 non-null   float64\n",
      " 8   Company Type      8164 non-null   object \n",
      " 9   Operating Status  8674 non-null   object \n",
      " 10  Last Valuation    2355 non-null   float64\n",
      "dtypes: float64(3), object(8)\n",
      "memory usage: 772.8+ KB\n"
     ]
    },
    {
     "data": {
      "text/plain": "      Company  Founded Year           City          Nation  \\\n0      OpenAI        2015.0  San Francisco   United States   \n1  Orange DAO        2021.0  San Francisco   United States   \n2     Carvana        2013.0          Tempe   United States   \n3     Nothing        2020.0         London  United Kingdom   \n4   ConsenSys        2014.0       Brooklyn   United States   \n\n                  Industry           Founder             Investor  \\\n0  Artificial Intelligence    Carlos Virella  Andreessen Horowitz   \n1           Cryptocurrency               NaN                 NEAR   \n2               Automotive      Ernie Garcia                 Citi   \n3                 Consumer  Akis Evangelidis       Animoca Brands   \n4               Blockchain   Donnie Benjamin        Protocol Labs   \n\n   Total Founding Company Type Operating Status  Last Valuation  \n0    1.000120e+09   for profit           active             NaN  \n1    8.000000e+07   for profit           active             NaN  \n2    4.835120e+09   for profit           active             NaN  \n3    1.501974e+08   for profit           active             NaN  \n4    7.266700e+08   for profit           active             NaN  ",
      "text/html": "<div>\n<style scoped>\n    .dataframe tbody tr th:only-of-type {\n        vertical-align: middle;\n    }\n\n    .dataframe tbody tr th {\n        vertical-align: top;\n    }\n\n    .dataframe thead th {\n        text-align: right;\n    }\n</style>\n<table border=\"1\" class=\"dataframe\">\n  <thead>\n    <tr style=\"text-align: right;\">\n      <th></th>\n      <th>Company</th>\n      <th>Founded Year</th>\n      <th>City</th>\n      <th>Nation</th>\n      <th>Industry</th>\n      <th>Founder</th>\n      <th>Investor</th>\n      <th>Total Founding</th>\n      <th>Company Type</th>\n      <th>Operating Status</th>\n      <th>Last Valuation</th>\n    </tr>\n  </thead>\n  <tbody>\n    <tr>\n      <th>0</th>\n      <td>OpenAI</td>\n      <td>2015.0</td>\n      <td>San Francisco</td>\n      <td>United States</td>\n      <td>Artificial Intelligence</td>\n      <td>Carlos Virella</td>\n      <td>Andreessen Horowitz</td>\n      <td>1.000120e+09</td>\n      <td>for profit</td>\n      <td>active</td>\n      <td>NaN</td>\n    </tr>\n    <tr>\n      <th>1</th>\n      <td>Orange DAO</td>\n      <td>2021.0</td>\n      <td>San Francisco</td>\n      <td>United States</td>\n      <td>Cryptocurrency</td>\n      <td>NaN</td>\n      <td>NEAR</td>\n      <td>8.000000e+07</td>\n      <td>for profit</td>\n      <td>active</td>\n      <td>NaN</td>\n    </tr>\n    <tr>\n      <th>2</th>\n      <td>Carvana</td>\n      <td>2013.0</td>\n      <td>Tempe</td>\n      <td>United States</td>\n      <td>Automotive</td>\n      <td>Ernie Garcia</td>\n      <td>Citi</td>\n      <td>4.835120e+09</td>\n      <td>for profit</td>\n      <td>active</td>\n      <td>NaN</td>\n    </tr>\n    <tr>\n      <th>3</th>\n      <td>Nothing</td>\n      <td>2020.0</td>\n      <td>London</td>\n      <td>United Kingdom</td>\n      <td>Consumer</td>\n      <td>Akis Evangelidis</td>\n      <td>Animoca Brands</td>\n      <td>1.501974e+08</td>\n      <td>for profit</td>\n      <td>active</td>\n      <td>NaN</td>\n    </tr>\n    <tr>\n      <th>4</th>\n      <td>ConsenSys</td>\n      <td>2014.0</td>\n      <td>Brooklyn</td>\n      <td>United States</td>\n      <td>Blockchain</td>\n      <td>Donnie Benjamin</td>\n      <td>Protocol Labs</td>\n      <td>7.266700e+08</td>\n      <td>for profit</td>\n      <td>active</td>\n      <td>NaN</td>\n    </tr>\n  </tbody>\n</table>\n</div>"
     },
     "execution_count": 37,
     "metadata": {},
     "output_type": "execute_result"
    }
   ],
   "source": [
    "data.info()\n",
    "data.head()\n"
   ],
   "metadata": {
    "collapsed": false
   }
  }
 ],
 "metadata": {
  "kernelspec": {
   "display_name": "Python 3",
   "language": "python",
   "name": "python3"
  },
  "language_info": {
   "codemirror_mode": {
    "name": "ipython",
    "version": 2
   },
   "file_extension": ".py",
   "mimetype": "text/x-python",
   "name": "python",
   "nbconvert_exporter": "python",
   "pygments_lexer": "ipython2",
   "version": "2.7.6"
  }
 },
 "nbformat": 4,
 "nbformat_minor": 0
}
