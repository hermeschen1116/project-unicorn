{
 "cells": [
  {
   "cell_type": "code",
   "execution_count": 1,
   "outputs": [],
   "source": [
    "import pandas as pd"
   ],
   "metadata": {
    "collapsed": false
   }
  },
  {
   "cell_type": "code",
   "execution_count": 2,
   "outputs": [
    {
     "data": {
      "text/plain": "   Unnamed: 0 state_code   latitude   longitude zip_code       id  \\\n0        1005         CA  42.358880  -71.056820    92101   c:6669   \n1         204         CA  37.238916 -121.973718    95032  c:16283   \n2        1001         CA  32.901049 -117.192656    92121  c:65620   \n3         738         CA  37.320309 -122.050040    95014  c:42668   \n4        1002         CA  37.779281 -122.419236    94105  c:65806   \n\n            city              Unnamed: 6               name  labels  ...  \\\n0      San Diego                     NaN        Bandsintown       1  ...   \n1      Los Gatos                     NaN          TriCipher       1  ...   \n2      San Diego      San Diego CA 92121              Plixi       1  ...   \n3      Cupertino      Cupertino CA 95014  Solidcore Systems       1  ...   \n4  San Francisco  San Francisco CA 94105     Inhale Digital       0  ...   \n\n  object_id has_VC has_angel has_roundA  has_roundB  has_roundC  has_roundD  \\\n0    c:6669      0         1          0           0           0           0   \n1   c:16283      1         0          0           1           1           1   \n2   c:65620      0         0          1           0           0           0   \n3   c:42668      0         0          0           1           1           1   \n4   c:65806      1         1          0           0           0           0   \n\n   avg_participants  is_top500    status  \n0            1.0000          0  acquired  \n1            4.7500          1  acquired  \n2            4.0000          1  acquired  \n3            3.3333          1  acquired  \n4            1.0000          1    closed  \n\n[5 rows x 49 columns]",
      "text/html": "<div>\n<style scoped>\n    .dataframe tbody tr th:only-of-type {\n        vertical-align: middle;\n    }\n\n    .dataframe tbody tr th {\n        vertical-align: top;\n    }\n\n    .dataframe thead th {\n        text-align: right;\n    }\n</style>\n<table border=\"1\" class=\"dataframe\">\n  <thead>\n    <tr style=\"text-align: right;\">\n      <th></th>\n      <th>Unnamed: 0</th>\n      <th>state_code</th>\n      <th>latitude</th>\n      <th>longitude</th>\n      <th>zip_code</th>\n      <th>id</th>\n      <th>city</th>\n      <th>Unnamed: 6</th>\n      <th>name</th>\n      <th>labels</th>\n      <th>...</th>\n      <th>object_id</th>\n      <th>has_VC</th>\n      <th>has_angel</th>\n      <th>has_roundA</th>\n      <th>has_roundB</th>\n      <th>has_roundC</th>\n      <th>has_roundD</th>\n      <th>avg_participants</th>\n      <th>is_top500</th>\n      <th>status</th>\n    </tr>\n  </thead>\n  <tbody>\n    <tr>\n      <th>0</th>\n      <td>1005</td>\n      <td>CA</td>\n      <td>42.358880</td>\n      <td>-71.056820</td>\n      <td>92101</td>\n      <td>c:6669</td>\n      <td>San Diego</td>\n      <td>NaN</td>\n      <td>Bandsintown</td>\n      <td>1</td>\n      <td>...</td>\n      <td>c:6669</td>\n      <td>0</td>\n      <td>1</td>\n      <td>0</td>\n      <td>0</td>\n      <td>0</td>\n      <td>0</td>\n      <td>1.0000</td>\n      <td>0</td>\n      <td>acquired</td>\n    </tr>\n    <tr>\n      <th>1</th>\n      <td>204</td>\n      <td>CA</td>\n      <td>37.238916</td>\n      <td>-121.973718</td>\n      <td>95032</td>\n      <td>c:16283</td>\n      <td>Los Gatos</td>\n      <td>NaN</td>\n      <td>TriCipher</td>\n      <td>1</td>\n      <td>...</td>\n      <td>c:16283</td>\n      <td>1</td>\n      <td>0</td>\n      <td>0</td>\n      <td>1</td>\n      <td>1</td>\n      <td>1</td>\n      <td>4.7500</td>\n      <td>1</td>\n      <td>acquired</td>\n    </tr>\n    <tr>\n      <th>2</th>\n      <td>1001</td>\n      <td>CA</td>\n      <td>32.901049</td>\n      <td>-117.192656</td>\n      <td>92121</td>\n      <td>c:65620</td>\n      <td>San Diego</td>\n      <td>San Diego CA 92121</td>\n      <td>Plixi</td>\n      <td>1</td>\n      <td>...</td>\n      <td>c:65620</td>\n      <td>0</td>\n      <td>0</td>\n      <td>1</td>\n      <td>0</td>\n      <td>0</td>\n      <td>0</td>\n      <td>4.0000</td>\n      <td>1</td>\n      <td>acquired</td>\n    </tr>\n    <tr>\n      <th>3</th>\n      <td>738</td>\n      <td>CA</td>\n      <td>37.320309</td>\n      <td>-122.050040</td>\n      <td>95014</td>\n      <td>c:42668</td>\n      <td>Cupertino</td>\n      <td>Cupertino CA 95014</td>\n      <td>Solidcore Systems</td>\n      <td>1</td>\n      <td>...</td>\n      <td>c:42668</td>\n      <td>0</td>\n      <td>0</td>\n      <td>0</td>\n      <td>1</td>\n      <td>1</td>\n      <td>1</td>\n      <td>3.3333</td>\n      <td>1</td>\n      <td>acquired</td>\n    </tr>\n    <tr>\n      <th>4</th>\n      <td>1002</td>\n      <td>CA</td>\n      <td>37.779281</td>\n      <td>-122.419236</td>\n      <td>94105</td>\n      <td>c:65806</td>\n      <td>San Francisco</td>\n      <td>San Francisco CA 94105</td>\n      <td>Inhale Digital</td>\n      <td>0</td>\n      <td>...</td>\n      <td>c:65806</td>\n      <td>1</td>\n      <td>1</td>\n      <td>0</td>\n      <td>0</td>\n      <td>0</td>\n      <td>0</td>\n      <td>1.0000</td>\n      <td>1</td>\n      <td>closed</td>\n    </tr>\n  </tbody>\n</table>\n<p>5 rows × 49 columns</p>\n</div>"
     },
     "execution_count": 2,
     "metadata": {},
     "output_type": "execute_result"
    }
   ],
   "source": [
    "\n"
   ],
   "metadata": {
    "collapsed": false
   }
  }
 ],
 "metadata": {
  "kernelspec": {
   "display_name": "Python 3",
   "language": "python",
   "name": "python3"
  },
  "language_info": {
   "codemirror_mode": {
    "name": "ipython",
    "version": 2
   },
   "file_extension": ".py",
   "mimetype": "text/x-python",
   "name": "python",
   "nbconvert_exporter": "python",
   "pygments_lexer": "ipython2",
   "version": "2.7.6"
  }
 },
 "nbformat": 4,
 "nbformat_minor": 0
}
