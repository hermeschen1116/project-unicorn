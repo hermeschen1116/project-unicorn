{
 "cells": [
  {
   "cell_type": "code",
   "execution_count": 5,
   "outputs": [],
   "source": [
    "import pandas as pd"
   ],
   "metadata": {
    "collapsed": false
   }
  },
  {
   "cell_type": "code",
   "execution_count": 6,
   "outputs": [
    {
     "data": {
      "text/plain": "                       Company  Found Date            City           Nation  \\\n0                       OpenAI        2015   San Francisco    United States   \n1                   Orange DAO        2021   San Francisco    United States   \n2                      Carvana        2013           Tempe    United States   \n3                      Nothing        2020          London   United Kingdom   \n4                    ConsenSys        2014        Brooklyn    United States   \n...                        ...         ...             ...              ...   \n8989       Fortis Therapeutics        2016        La Jolla    United States   \n8990      CafeX Communications        2013        New York    United States   \n8991           Bond Collective        2013        New York    United States   \n8992              Lumos Pharma        2014          Austin    United States   \n8993  Sermonix Pharmaceuticals        2014        Columbus    United States   \n\n                      Industry            Founder                    Investor  \\\n0      Artificial Intelligence     Carlos Virella         Andreessen Horowitz   \n1               Cryptocurrency                                           NEAR   \n2                   Automotive       Ernie Garcia                        Citi   \n3                     Consumer   Akis Evangelidis              Animoca Brands   \n4                   Blockchain    Donnie Benjamin               Protocol Labs   \n...                        ...                ...                         ...   \n8989             Biotechnology            Bin Liu                Vivo Capital   \n8990             Collaboration       David Jodoin                     Rakuten   \n8991                 Coworking       Elie Deitsch                               \n8992                 Biopharma       Rick Hawkins   New Enterprise Associates   \n8993                 Biopharma      David Portman         Perceptive Advisors   \n\n      Total Founding  Company Type  Operating Status   Last Valuation  \n0         1000120000             Y                 Y              NaN  \n1           80000000             Y                 Y              NaN  \n2         4835120000             Y                 Y              NaN  \n3          150197410             Y                 Y              NaN  \n4          726670000             Y                 Y              NaN  \n...              ...           ...               ...              ...  \n8989        58000000             Y                 Y      150000000.0  \n8990        49540450             Y                 Y      150000000.0  \n8991        50000000             Y                 Y      150000000.0  \n8992        53500000             Y                 Y      150000000.0  \n8993        67550000             Y                 Y      150000000.0  \n\n[8994 rows x 11 columns]",
      "text/html": "<div>\n<style scoped>\n    .dataframe tbody tr th:only-of-type {\n        vertical-align: middle;\n    }\n\n    .dataframe tbody tr th {\n        vertical-align: top;\n    }\n\n    .dataframe thead th {\n        text-align: right;\n    }\n</style>\n<table border=\"1\" class=\"dataframe\">\n  <thead>\n    <tr style=\"text-align: right;\">\n      <th></th>\n      <th>Company</th>\n      <th>Found Date</th>\n      <th>City</th>\n      <th>Nation</th>\n      <th>Industry</th>\n      <th>Founder</th>\n      <th>Investor</th>\n      <th>Total Founding</th>\n      <th>Company Type</th>\n      <th>Operating Status</th>\n      <th>Last Valuation</th>\n    </tr>\n  </thead>\n  <tbody>\n    <tr>\n      <th>0</th>\n      <td>OpenAI</td>\n      <td>2015</td>\n      <td>San Francisco</td>\n      <td>United States</td>\n      <td>Artificial Intelligence</td>\n      <td>Carlos Virella</td>\n      <td>Andreessen Horowitz</td>\n      <td>1000120000</td>\n      <td>Y</td>\n      <td>Y</td>\n      <td>NaN</td>\n    </tr>\n    <tr>\n      <th>1</th>\n      <td>Orange DAO</td>\n      <td>2021</td>\n      <td>San Francisco</td>\n      <td>United States</td>\n      <td>Cryptocurrency</td>\n      <td></td>\n      <td>NEAR</td>\n      <td>80000000</td>\n      <td>Y</td>\n      <td>Y</td>\n      <td>NaN</td>\n    </tr>\n    <tr>\n      <th>2</th>\n      <td>Carvana</td>\n      <td>2013</td>\n      <td>Tempe</td>\n      <td>United States</td>\n      <td>Automotive</td>\n      <td>Ernie Garcia</td>\n      <td>Citi</td>\n      <td>4835120000</td>\n      <td>Y</td>\n      <td>Y</td>\n      <td>NaN</td>\n    </tr>\n    <tr>\n      <th>3</th>\n      <td>Nothing</td>\n      <td>2020</td>\n      <td>London</td>\n      <td>United Kingdom</td>\n      <td>Consumer</td>\n      <td>Akis Evangelidis</td>\n      <td>Animoca Brands</td>\n      <td>150197410</td>\n      <td>Y</td>\n      <td>Y</td>\n      <td>NaN</td>\n    </tr>\n    <tr>\n      <th>4</th>\n      <td>ConsenSys</td>\n      <td>2014</td>\n      <td>Brooklyn</td>\n      <td>United States</td>\n      <td>Blockchain</td>\n      <td>Donnie Benjamin</td>\n      <td>Protocol Labs</td>\n      <td>726670000</td>\n      <td>Y</td>\n      <td>Y</td>\n      <td>NaN</td>\n    </tr>\n    <tr>\n      <th>...</th>\n      <td>...</td>\n      <td>...</td>\n      <td>...</td>\n      <td>...</td>\n      <td>...</td>\n      <td>...</td>\n      <td>...</td>\n      <td>...</td>\n      <td>...</td>\n      <td>...</td>\n      <td>...</td>\n    </tr>\n    <tr>\n      <th>8989</th>\n      <td>Fortis Therapeutics</td>\n      <td>2016</td>\n      <td>La Jolla</td>\n      <td>United States</td>\n      <td>Biotechnology</td>\n      <td>Bin Liu</td>\n      <td>Vivo Capital</td>\n      <td>58000000</td>\n      <td>Y</td>\n      <td>Y</td>\n      <td>150000000.0</td>\n    </tr>\n    <tr>\n      <th>8990</th>\n      <td>CafeX Communications</td>\n      <td>2013</td>\n      <td>New York</td>\n      <td>United States</td>\n      <td>Collaboration</td>\n      <td>David Jodoin</td>\n      <td>Rakuten</td>\n      <td>49540450</td>\n      <td>Y</td>\n      <td>Y</td>\n      <td>150000000.0</td>\n    </tr>\n    <tr>\n      <th>8991</th>\n      <td>Bond Collective</td>\n      <td>2013</td>\n      <td>New York</td>\n      <td>United States</td>\n      <td>Coworking</td>\n      <td>Elie Deitsch</td>\n      <td></td>\n      <td>50000000</td>\n      <td>Y</td>\n      <td>Y</td>\n      <td>150000000.0</td>\n    </tr>\n    <tr>\n      <th>8992</th>\n      <td>Lumos Pharma</td>\n      <td>2014</td>\n      <td>Austin</td>\n      <td>United States</td>\n      <td>Biopharma</td>\n      <td>Rick Hawkins</td>\n      <td>New Enterprise Associates</td>\n      <td>53500000</td>\n      <td>Y</td>\n      <td>Y</td>\n      <td>150000000.0</td>\n    </tr>\n    <tr>\n      <th>8993</th>\n      <td>Sermonix Pharmaceuticals</td>\n      <td>2014</td>\n      <td>Columbus</td>\n      <td>United States</td>\n      <td>Biopharma</td>\n      <td>David Portman</td>\n      <td>Perceptive Advisors</td>\n      <td>67550000</td>\n      <td>Y</td>\n      <td>Y</td>\n      <td>150000000.0</td>\n    </tr>\n  </tbody>\n</table>\n<p>8994 rows × 11 columns</p>\n</div>"
     },
     "execution_count": 6,
     "metadata": {},
     "output_type": "execute_result"
    }
   ],
   "source": [
    "data = pd.read_csv('source/source.csv', encoding='utf-8')\n",
    "data\n"
   ],
   "metadata": {
    "collapsed": false
   }
  }
 ],
 "metadata": {
  "kernelspec": {
   "display_name": "Python 3",
   "language": "python",
   "name": "python3"
  },
  "language_info": {
   "codemirror_mode": {
    "name": "ipython",
    "version": 2
   },
   "file_extension": ".py",
   "mimetype": "text/x-python",
   "name": "python",
   "nbconvert_exporter": "python",
   "pygments_lexer": "ipython2",
   "version": "2.7.6"
  }
 },
 "nbformat": 4,
 "nbformat_minor": 0
}
