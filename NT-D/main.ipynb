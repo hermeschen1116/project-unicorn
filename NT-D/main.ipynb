{
 "cells": [
  {
   "cell_type": "code",
   "execution_count": 727,
   "outputs": [],
   "source": [
    "from math import sqrt\n",
    "from typing import Any\n",
    "\n",
    "import pandas as pd"
   ],
   "metadata": {
    "collapsed": false
   }
  },
  {
   "cell_type": "markdown",
   "source": [
    "# Data Processing"
   ],
   "metadata": {
    "collapsed": false
   }
  },
  {
   "cell_type": "code",
   "execution_count": 728,
   "outputs": [
    {
     "name": "stdout",
     "output_type": "stream",
     "text": [
      "<class 'pandas.core.frame.DataFrame'>\n",
      "RangeIndex: 3070 entries, 0 to 3069\n",
      "Data columns (total 7 columns):\n",
      " #   Column          Non-Null Count  Dtype \n",
      "---  ------          --------------  ----- \n",
      " 0   Company         3070 non-null   object\n",
      " 1   City            3050 non-null   object\n",
      " 2   Country         3068 non-null   object\n",
      " 3   Industry        3070 non-null   object\n",
      " 4   Investor        2940 non-null   object\n",
      " 5   Last Valuation  3070 non-null   int64 \n",
      " 6   Unicorn         3070 non-null   int64 \n",
      "dtypes: int64(2), object(5)\n",
      "memory usage: 168.0+ KB\n"
     ]
    }
   ],
   "source": [
    "data_set: Any = pd.read_csv('source/train_source.csv', encoding='utf-8')\n",
    "data_set.info()"
   ],
   "metadata": {
    "collapsed": false
   }
  },
  {
   "cell_type": "code",
   "execution_count": 729,
   "outputs": [
    {
     "data": {
      "text/plain": "               Company           City        Country                 Industry  \\\n0  Slingshot Aerospace         Austin  United States                Aerospace   \n1             Deepgram  San Francisco  United States  Artificial Intelligence   \n2                Sense      Cambridge  United States     Consumer Electronics   \n3                 Zume      Camarillo  United States                 Consumer   \n4         Plant Prefab         Rialto  United States             Architecture   \n\n             Investor  Last Valuation  Unicorn  \n0           Techstars       200000000        0  \n1              NVIDIA       250000000        0  \n2  Schneider Electric       550000000        0  \n3             FJ Labs      2250000000        1  \n4         ICT Capital       100000000        0  ",
      "text/html": "<div>\n<style scoped>\n    .dataframe tbody tr th:only-of-type {\n        vertical-align: middle;\n    }\n\n    .dataframe tbody tr th {\n        vertical-align: top;\n    }\n\n    .dataframe thead th {\n        text-align: right;\n    }\n</style>\n<table border=\"1\" class=\"dataframe\">\n  <thead>\n    <tr style=\"text-align: right;\">\n      <th></th>\n      <th>Company</th>\n      <th>City</th>\n      <th>Country</th>\n      <th>Industry</th>\n      <th>Investor</th>\n      <th>Last Valuation</th>\n      <th>Unicorn</th>\n    </tr>\n  </thead>\n  <tbody>\n    <tr>\n      <th>0</th>\n      <td>Slingshot Aerospace</td>\n      <td>Austin</td>\n      <td>United States</td>\n      <td>Aerospace</td>\n      <td>Techstars</td>\n      <td>200000000</td>\n      <td>0</td>\n    </tr>\n    <tr>\n      <th>1</th>\n      <td>Deepgram</td>\n      <td>San Francisco</td>\n      <td>United States</td>\n      <td>Artificial Intelligence</td>\n      <td>NVIDIA</td>\n      <td>250000000</td>\n      <td>0</td>\n    </tr>\n    <tr>\n      <th>2</th>\n      <td>Sense</td>\n      <td>Cambridge</td>\n      <td>United States</td>\n      <td>Consumer Electronics</td>\n      <td>Schneider Electric</td>\n      <td>550000000</td>\n      <td>0</td>\n    </tr>\n    <tr>\n      <th>3</th>\n      <td>Zume</td>\n      <td>Camarillo</td>\n      <td>United States</td>\n      <td>Consumer</td>\n      <td>FJ Labs</td>\n      <td>2250000000</td>\n      <td>1</td>\n    </tr>\n    <tr>\n      <th>4</th>\n      <td>Plant Prefab</td>\n      <td>Rialto</td>\n      <td>United States</td>\n      <td>Architecture</td>\n      <td>ICT Capital</td>\n      <td>100000000</td>\n      <td>0</td>\n    </tr>\n  </tbody>\n</table>\n</div>"
     },
     "execution_count": 729,
     "metadata": {},
     "output_type": "execute_result"
    }
   ],
   "source": [
    "data_set.head()"
   ],
   "metadata": {
    "collapsed": false
   }
  },
  {
   "cell_type": "markdown",
   "source": [
    "## Company Name"
   ],
   "metadata": {
    "collapsed": false
   }
  },
  {
   "cell_type": "code",
   "execution_count": 730,
   "outputs": [],
   "source": [
    "company: list = data_set['Company'].tolist()"
   ],
   "metadata": {
    "collapsed": false
   }
  },
  {
   "cell_type": "code",
   "execution_count": 731,
   "outputs": [],
   "source": [
    "def count_special_char(name: str) -> int:\n",
    "\tspecial_char: list = ['!', '\"', '#', '$', '%', '&', \"'\", '(', ')', '*', '+', ',', '-', '.', '/', '0', '1', '2', '3', '4', '5', '6', '7', '8', '9', ':', ';',\n",
    "\t\t\t\t\t\t  '<', '=', '>', '?', '@']\n",
    "\tspecial_char_count: int = 0\n",
    "\tfor c in name:\n",
    "\t\tif c in special_char:\n",
    "\t\t\tspecial_char_count += 1\n",
    "\n",
    "\treturn special_char_count"
   ],
   "metadata": {
    "collapsed": false
   }
  },
  {
   "cell_type": "code",
   "execution_count": 732,
   "outputs": [],
   "source": [
    "company_length: list = [len(c) for c in company]\n",
    "company_words: list = [len(c.split(' ')) for c in company]\n",
    "company_special: list = [count_special_char(c) for c in company]"
   ],
   "metadata": {
    "collapsed": false
   }
  },
  {
   "cell_type": "code",
   "execution_count": 733,
   "outputs": [],
   "source": [
    "data_set['Company Name Length'] = company_length\n",
    "data_set['Company Name #Words'] = company_words\n",
    "data_set['Company Name #Special Char'] = company_special\n",
    "data_set.drop('Company', axis=1, inplace=True)"
   ],
   "metadata": {
    "collapsed": false
   }
  },
  {
   "cell_type": "code",
   "execution_count": 734,
   "outputs": [
    {
     "data": {
      "text/plain": "                       City        Country                         Industry  \\\n0                    Austin  United States                        Aerospace   \n1             San Francisco  United States          Artificial Intelligence   \n2                 Cambridge  United States             Consumer Electronics   \n3                 Camarillo  United States                         Consumer   \n4                    Rialto  United States                     Architecture   \n...                     ...            ...                              ...   \n3065           Jacksonville  United States  E-commerce & direct-to-consumer   \n3066              Hawthorne  United States                            Other   \n3067               Brooklyn  United States     Internet software & services   \n3068              Stockholm         Sweden                          Fintech   \n3069  La Plaine Saint-Denis         France  E-commerce & direct-to-consumer   \n\n                            Investor  Last Valuation  Unicorn  \\\n0                          Techstars       200000000        0   \n1                             NVIDIA       250000000        0   \n2                 Schneider Electric       550000000        0   \n3                            FJ Labs      2250000000        1   \n4                        ICT Capital       100000000        0   \n...                              ...             ...      ...   \n3065                  SoftBank Group     27000000000        1   \n3066                   Founders Fund    127000000000        1   \n3067   Technology Crossover Ventures      5700000000        1   \n3068  Institutional Venture Partners      6700000000        1   \n3069                 Summit Partners      1380000000        1   \n\n      Company Name Length  Company Name #Words  Company Name #Special Char  \n0                      19                    2                           0  \n1                       8                    1                           0  \n2                       5                    1                           0  \n3                       4                    1                           0  \n4                      12                    2                           0  \n...                   ...                  ...                         ...  \n3065                    8                    1                           0  \n3066                    6                    1                           0  \n3067                   10                    2                           0  \n3068                    6                    1                           0  \n3069                    6                    1                           0  \n\n[3070 rows x 9 columns]",
      "text/html": "<div>\n<style scoped>\n    .dataframe tbody tr th:only-of-type {\n        vertical-align: middle;\n    }\n\n    .dataframe tbody tr th {\n        vertical-align: top;\n    }\n\n    .dataframe thead th {\n        text-align: right;\n    }\n</style>\n<table border=\"1\" class=\"dataframe\">\n  <thead>\n    <tr style=\"text-align: right;\">\n      <th></th>\n      <th>City</th>\n      <th>Country</th>\n      <th>Industry</th>\n      <th>Investor</th>\n      <th>Last Valuation</th>\n      <th>Unicorn</th>\n      <th>Company Name Length</th>\n      <th>Company Name #Words</th>\n      <th>Company Name #Special Char</th>\n    </tr>\n  </thead>\n  <tbody>\n    <tr>\n      <th>0</th>\n      <td>Austin</td>\n      <td>United States</td>\n      <td>Aerospace</td>\n      <td>Techstars</td>\n      <td>200000000</td>\n      <td>0</td>\n      <td>19</td>\n      <td>2</td>\n      <td>0</td>\n    </tr>\n    <tr>\n      <th>1</th>\n      <td>San Francisco</td>\n      <td>United States</td>\n      <td>Artificial Intelligence</td>\n      <td>NVIDIA</td>\n      <td>250000000</td>\n      <td>0</td>\n      <td>8</td>\n      <td>1</td>\n      <td>0</td>\n    </tr>\n    <tr>\n      <th>2</th>\n      <td>Cambridge</td>\n      <td>United States</td>\n      <td>Consumer Electronics</td>\n      <td>Schneider Electric</td>\n      <td>550000000</td>\n      <td>0</td>\n      <td>5</td>\n      <td>1</td>\n      <td>0</td>\n    </tr>\n    <tr>\n      <th>3</th>\n      <td>Camarillo</td>\n      <td>United States</td>\n      <td>Consumer</td>\n      <td>FJ Labs</td>\n      <td>2250000000</td>\n      <td>1</td>\n      <td>4</td>\n      <td>1</td>\n      <td>0</td>\n    </tr>\n    <tr>\n      <th>4</th>\n      <td>Rialto</td>\n      <td>United States</td>\n      <td>Architecture</td>\n      <td>ICT Capital</td>\n      <td>100000000</td>\n      <td>0</td>\n      <td>12</td>\n      <td>2</td>\n      <td>0</td>\n    </tr>\n    <tr>\n      <th>...</th>\n      <td>...</td>\n      <td>...</td>\n      <td>...</td>\n      <td>...</td>\n      <td>...</td>\n      <td>...</td>\n      <td>...</td>\n      <td>...</td>\n      <td>...</td>\n    </tr>\n    <tr>\n      <th>3065</th>\n      <td>Jacksonville</td>\n      <td>United States</td>\n      <td>E-commerce &amp; direct-to-consumer</td>\n      <td>SoftBank Group</td>\n      <td>27000000000</td>\n      <td>1</td>\n      <td>8</td>\n      <td>1</td>\n      <td>0</td>\n    </tr>\n    <tr>\n      <th>3066</th>\n      <td>Hawthorne</td>\n      <td>United States</td>\n      <td>Other</td>\n      <td>Founders Fund</td>\n      <td>127000000000</td>\n      <td>1</td>\n      <td>6</td>\n      <td>1</td>\n      <td>0</td>\n    </tr>\n    <tr>\n      <th>3067</th>\n      <td>Brooklyn</td>\n      <td>United States</td>\n      <td>Internet software &amp; services</td>\n      <td>Technology Crossover Ventures</td>\n      <td>5700000000</td>\n      <td>1</td>\n      <td>10</td>\n      <td>2</td>\n      <td>0</td>\n    </tr>\n    <tr>\n      <th>3068</th>\n      <td>Stockholm</td>\n      <td>Sweden</td>\n      <td>Fintech</td>\n      <td>Institutional Venture Partners</td>\n      <td>6700000000</td>\n      <td>1</td>\n      <td>6</td>\n      <td>1</td>\n      <td>0</td>\n    </tr>\n    <tr>\n      <th>3069</th>\n      <td>La Plaine Saint-Denis</td>\n      <td>France</td>\n      <td>E-commerce &amp; direct-to-consumer</td>\n      <td>Summit Partners</td>\n      <td>1380000000</td>\n      <td>1</td>\n      <td>6</td>\n      <td>1</td>\n      <td>0</td>\n    </tr>\n  </tbody>\n</table>\n<p>3070 rows × 9 columns</p>\n</div>"
     },
     "execution_count": 734,
     "metadata": {},
     "output_type": "execute_result"
    }
   ],
   "source": [
    "data_set"
   ],
   "metadata": {
    "collapsed": false
   }
  },
  {
   "cell_type": "markdown",
   "source": [
    "## City\n"
   ],
   "metadata": {
    "collapsed": false
   }
  },
  {
   "cell_type": "code",
   "execution_count": 735,
   "outputs": [
    {
     "data": {
      "text/plain": "san francisco            480\nnew york                 365\nboston                    97\npalo alto                 72\nlos angeles               66\n                        ... \nnorth charleston           1\nwayland                    1\nlake oswego                1\nhonolulu                   1\nla plaine saint-denis      1\nName: City, Length: 502, dtype: int64"
     },
     "execution_count": 735,
     "metadata": {},
     "output_type": "execute_result"
    }
   ],
   "source": [
    "data_set['City'] = data_set['City'].str.lower()\n",
    "data_set['City'].value_counts()"
   ],
   "metadata": {
    "collapsed": false
   }
  },
  {
   "cell_type": "code",
   "execution_count": 736,
   "outputs": [],
   "source": [
    "def city_mapping(city_name: str) -> int:\n",
    "\tcity: dict = {'san francisco': 0, 'new york': 1}\n",
    "\tif city_name in city.keys():\n",
    "\t\treturn city[city_name]\n",
    "\treturn len(city)\n",
    "\n",
    "\n",
    "data_set['City'] = data_set['City'].map(city_mapping)"
   ],
   "metadata": {
    "collapsed": false
   }
  },
  {
   "cell_type": "code",
   "execution_count": 737,
   "outputs": [],
   "source": [
    "data_set['City'].fillna(0, inplace=True)"
   ],
   "metadata": {
    "collapsed": false
   }
  },
  {
   "cell_type": "code",
   "execution_count": 738,
   "outputs": [
    {
     "data": {
      "text/plain": "      City        Country                         Industry  \\\n0        2  United States                        Aerospace   \n1        0  United States          Artificial Intelligence   \n2        2  United States             Consumer Electronics   \n3        2  United States                         Consumer   \n4        2  United States                     Architecture   \n...    ...            ...                              ...   \n3065     2  United States  E-commerce & direct-to-consumer   \n3066     2  United States                            Other   \n3067     2  United States     Internet software & services   \n3068     2         Sweden                          Fintech   \n3069     2         France  E-commerce & direct-to-consumer   \n\n                            Investor  Last Valuation  Unicorn  \\\n0                          Techstars       200000000        0   \n1                             NVIDIA       250000000        0   \n2                 Schneider Electric       550000000        0   \n3                            FJ Labs      2250000000        1   \n4                        ICT Capital       100000000        0   \n...                              ...             ...      ...   \n3065                  SoftBank Group     27000000000        1   \n3066                   Founders Fund    127000000000        1   \n3067   Technology Crossover Ventures      5700000000        1   \n3068  Institutional Venture Partners      6700000000        1   \n3069                 Summit Partners      1380000000        1   \n\n      Company Name Length  Company Name #Words  Company Name #Special Char  \n0                      19                    2                           0  \n1                       8                    1                           0  \n2                       5                    1                           0  \n3                       4                    1                           0  \n4                      12                    2                           0  \n...                   ...                  ...                         ...  \n3065                    8                    1                           0  \n3066                    6                    1                           0  \n3067                   10                    2                           0  \n3068                    6                    1                           0  \n3069                    6                    1                           0  \n\n[3070 rows x 9 columns]",
      "text/html": "<div>\n<style scoped>\n    .dataframe tbody tr th:only-of-type {\n        vertical-align: middle;\n    }\n\n    .dataframe tbody tr th {\n        vertical-align: top;\n    }\n\n    .dataframe thead th {\n        text-align: right;\n    }\n</style>\n<table border=\"1\" class=\"dataframe\">\n  <thead>\n    <tr style=\"text-align: right;\">\n      <th></th>\n      <th>City</th>\n      <th>Country</th>\n      <th>Industry</th>\n      <th>Investor</th>\n      <th>Last Valuation</th>\n      <th>Unicorn</th>\n      <th>Company Name Length</th>\n      <th>Company Name #Words</th>\n      <th>Company Name #Special Char</th>\n    </tr>\n  </thead>\n  <tbody>\n    <tr>\n      <th>0</th>\n      <td>2</td>\n      <td>United States</td>\n      <td>Aerospace</td>\n      <td>Techstars</td>\n      <td>200000000</td>\n      <td>0</td>\n      <td>19</td>\n      <td>2</td>\n      <td>0</td>\n    </tr>\n    <tr>\n      <th>1</th>\n      <td>0</td>\n      <td>United States</td>\n      <td>Artificial Intelligence</td>\n      <td>NVIDIA</td>\n      <td>250000000</td>\n      <td>0</td>\n      <td>8</td>\n      <td>1</td>\n      <td>0</td>\n    </tr>\n    <tr>\n      <th>2</th>\n      <td>2</td>\n      <td>United States</td>\n      <td>Consumer Electronics</td>\n      <td>Schneider Electric</td>\n      <td>550000000</td>\n      <td>0</td>\n      <td>5</td>\n      <td>1</td>\n      <td>0</td>\n    </tr>\n    <tr>\n      <th>3</th>\n      <td>2</td>\n      <td>United States</td>\n      <td>Consumer</td>\n      <td>FJ Labs</td>\n      <td>2250000000</td>\n      <td>1</td>\n      <td>4</td>\n      <td>1</td>\n      <td>0</td>\n    </tr>\n    <tr>\n      <th>4</th>\n      <td>2</td>\n      <td>United States</td>\n      <td>Architecture</td>\n      <td>ICT Capital</td>\n      <td>100000000</td>\n      <td>0</td>\n      <td>12</td>\n      <td>2</td>\n      <td>0</td>\n    </tr>\n    <tr>\n      <th>...</th>\n      <td>...</td>\n      <td>...</td>\n      <td>...</td>\n      <td>...</td>\n      <td>...</td>\n      <td>...</td>\n      <td>...</td>\n      <td>...</td>\n      <td>...</td>\n    </tr>\n    <tr>\n      <th>3065</th>\n      <td>2</td>\n      <td>United States</td>\n      <td>E-commerce &amp; direct-to-consumer</td>\n      <td>SoftBank Group</td>\n      <td>27000000000</td>\n      <td>1</td>\n      <td>8</td>\n      <td>1</td>\n      <td>0</td>\n    </tr>\n    <tr>\n      <th>3066</th>\n      <td>2</td>\n      <td>United States</td>\n      <td>Other</td>\n      <td>Founders Fund</td>\n      <td>127000000000</td>\n      <td>1</td>\n      <td>6</td>\n      <td>1</td>\n      <td>0</td>\n    </tr>\n    <tr>\n      <th>3067</th>\n      <td>2</td>\n      <td>United States</td>\n      <td>Internet software &amp; services</td>\n      <td>Technology Crossover Ventures</td>\n      <td>5700000000</td>\n      <td>1</td>\n      <td>10</td>\n      <td>2</td>\n      <td>0</td>\n    </tr>\n    <tr>\n      <th>3068</th>\n      <td>2</td>\n      <td>Sweden</td>\n      <td>Fintech</td>\n      <td>Institutional Venture Partners</td>\n      <td>6700000000</td>\n      <td>1</td>\n      <td>6</td>\n      <td>1</td>\n      <td>0</td>\n    </tr>\n    <tr>\n      <th>3069</th>\n      <td>2</td>\n      <td>France</td>\n      <td>E-commerce &amp; direct-to-consumer</td>\n      <td>Summit Partners</td>\n      <td>1380000000</td>\n      <td>1</td>\n      <td>6</td>\n      <td>1</td>\n      <td>0</td>\n    </tr>\n  </tbody>\n</table>\n<p>3070 rows × 9 columns</p>\n</div>"
     },
     "execution_count": 738,
     "metadata": {},
     "output_type": "execute_result"
    }
   ],
   "source": [
    "data_set"
   ],
   "metadata": {
    "collapsed": false
   }
  },
  {
   "cell_type": "markdown",
   "source": [
    "## Country"
   ],
   "metadata": {
    "collapsed": false
   }
  },
  {
   "cell_type": "code",
   "execution_count": 739,
   "outputs": [
    {
     "data": {
      "text/plain": "united states           2506\nchina                    173\nindia                     70\nunited kingdom            50\ngermany                   30\nisrael                    24\nfrance                    24\ncanada                    19\nsouth korea               17\nbrazil                    16\nsingapore                 14\nsweden                     8\nmexico                     8\naustralia                  8\nindonesia                  7\nhong kong                  7\nnetherlands                7\njapan                      6\nswitzerland                6\nireland                    6\nspain                      5\nfinland                    5\nnorway                     5\nunited arab emirates       4\nbelgium                    3\nturkey                     3\nthailand                   3\ncolombia                   3\nphilippines                2\nchile                      2\nitaly                      2\nsouth africa               2\nlithuania                  2\ncroatia                    2\naustria                    2\nvietnam                    2\ndenmark                    2\nluxembourg                 1\nbahamas                    1\nargentina                  1\nnigeria                    1\nczech republic             1\nmalaysia                   1\nliechtenstein              1\nseychelles                 1\nportugal                   1\npakistan                   1\necuador                    1\nestonia                    1\nbermuda                    1\nName: Country, dtype: int64"
     },
     "execution_count": 739,
     "metadata": {},
     "output_type": "execute_result"
    }
   ],
   "source": [
    "data_set['Country'] = data_set['Country'].str.lower()\n",
    "data_set['Country'].value_counts()"
   ],
   "metadata": {
    "collapsed": false
   }
  },
  {
   "cell_type": "code",
   "execution_count": 740,
   "outputs": [],
   "source": [
    "def country_mapping(country_name: str) -> int:\n",
    "\tcountry: dict = {'united states': 0, 'china': 1}\n",
    "\tif country_name in country.keys():\n",
    "\t\treturn country[country_name]\n",
    "\treturn len(country)\n",
    "\n",
    "\n",
    "data_set['Country'] = data_set['Country'].map(country_mapping)"
   ],
   "metadata": {
    "collapsed": false
   }
  },
  {
   "cell_type": "code",
   "execution_count": 741,
   "outputs": [],
   "source": [
    "data_set['Country'].fillna(0, inplace=True)"
   ],
   "metadata": {
    "collapsed": false
   }
  },
  {
   "cell_type": "code",
   "execution_count": 742,
   "outputs": [
    {
     "data": {
      "text/plain": "      City  Country                         Industry  \\\n0        2        0                        Aerospace   \n1        0        0          Artificial Intelligence   \n2        2        0             Consumer Electronics   \n3        2        0                         Consumer   \n4        2        0                     Architecture   \n...    ...      ...                              ...   \n3065     2        0  E-commerce & direct-to-consumer   \n3066     2        0                            Other   \n3067     2        0     Internet software & services   \n3068     2        2                          Fintech   \n3069     2        2  E-commerce & direct-to-consumer   \n\n                            Investor  Last Valuation  Unicorn  \\\n0                          Techstars       200000000        0   \n1                             NVIDIA       250000000        0   \n2                 Schneider Electric       550000000        0   \n3                            FJ Labs      2250000000        1   \n4                        ICT Capital       100000000        0   \n...                              ...             ...      ...   \n3065                  SoftBank Group     27000000000        1   \n3066                   Founders Fund    127000000000        1   \n3067   Technology Crossover Ventures      5700000000        1   \n3068  Institutional Venture Partners      6700000000        1   \n3069                 Summit Partners      1380000000        1   \n\n      Company Name Length  Company Name #Words  Company Name #Special Char  \n0                      19                    2                           0  \n1                       8                    1                           0  \n2                       5                    1                           0  \n3                       4                    1                           0  \n4                      12                    2                           0  \n...                   ...                  ...                         ...  \n3065                    8                    1                           0  \n3066                    6                    1                           0  \n3067                   10                    2                           0  \n3068                    6                    1                           0  \n3069                    6                    1                           0  \n\n[3070 rows x 9 columns]",
      "text/html": "<div>\n<style scoped>\n    .dataframe tbody tr th:only-of-type {\n        vertical-align: middle;\n    }\n\n    .dataframe tbody tr th {\n        vertical-align: top;\n    }\n\n    .dataframe thead th {\n        text-align: right;\n    }\n</style>\n<table border=\"1\" class=\"dataframe\">\n  <thead>\n    <tr style=\"text-align: right;\">\n      <th></th>\n      <th>City</th>\n      <th>Country</th>\n      <th>Industry</th>\n      <th>Investor</th>\n      <th>Last Valuation</th>\n      <th>Unicorn</th>\n      <th>Company Name Length</th>\n      <th>Company Name #Words</th>\n      <th>Company Name #Special Char</th>\n    </tr>\n  </thead>\n  <tbody>\n    <tr>\n      <th>0</th>\n      <td>2</td>\n      <td>0</td>\n      <td>Aerospace</td>\n      <td>Techstars</td>\n      <td>200000000</td>\n      <td>0</td>\n      <td>19</td>\n      <td>2</td>\n      <td>0</td>\n    </tr>\n    <tr>\n      <th>1</th>\n      <td>0</td>\n      <td>0</td>\n      <td>Artificial Intelligence</td>\n      <td>NVIDIA</td>\n      <td>250000000</td>\n      <td>0</td>\n      <td>8</td>\n      <td>1</td>\n      <td>0</td>\n    </tr>\n    <tr>\n      <th>2</th>\n      <td>2</td>\n      <td>0</td>\n      <td>Consumer Electronics</td>\n      <td>Schneider Electric</td>\n      <td>550000000</td>\n      <td>0</td>\n      <td>5</td>\n      <td>1</td>\n      <td>0</td>\n    </tr>\n    <tr>\n      <th>3</th>\n      <td>2</td>\n      <td>0</td>\n      <td>Consumer</td>\n      <td>FJ Labs</td>\n      <td>2250000000</td>\n      <td>1</td>\n      <td>4</td>\n      <td>1</td>\n      <td>0</td>\n    </tr>\n    <tr>\n      <th>4</th>\n      <td>2</td>\n      <td>0</td>\n      <td>Architecture</td>\n      <td>ICT Capital</td>\n      <td>100000000</td>\n      <td>0</td>\n      <td>12</td>\n      <td>2</td>\n      <td>0</td>\n    </tr>\n    <tr>\n      <th>...</th>\n      <td>...</td>\n      <td>...</td>\n      <td>...</td>\n      <td>...</td>\n      <td>...</td>\n      <td>...</td>\n      <td>...</td>\n      <td>...</td>\n      <td>...</td>\n    </tr>\n    <tr>\n      <th>3065</th>\n      <td>2</td>\n      <td>0</td>\n      <td>E-commerce &amp; direct-to-consumer</td>\n      <td>SoftBank Group</td>\n      <td>27000000000</td>\n      <td>1</td>\n      <td>8</td>\n      <td>1</td>\n      <td>0</td>\n    </tr>\n    <tr>\n      <th>3066</th>\n      <td>2</td>\n      <td>0</td>\n      <td>Other</td>\n      <td>Founders Fund</td>\n      <td>127000000000</td>\n      <td>1</td>\n      <td>6</td>\n      <td>1</td>\n      <td>0</td>\n    </tr>\n    <tr>\n      <th>3067</th>\n      <td>2</td>\n      <td>0</td>\n      <td>Internet software &amp; services</td>\n      <td>Technology Crossover Ventures</td>\n      <td>5700000000</td>\n      <td>1</td>\n      <td>10</td>\n      <td>2</td>\n      <td>0</td>\n    </tr>\n    <tr>\n      <th>3068</th>\n      <td>2</td>\n      <td>2</td>\n      <td>Fintech</td>\n      <td>Institutional Venture Partners</td>\n      <td>6700000000</td>\n      <td>1</td>\n      <td>6</td>\n      <td>1</td>\n      <td>0</td>\n    </tr>\n    <tr>\n      <th>3069</th>\n      <td>2</td>\n      <td>2</td>\n      <td>E-commerce &amp; direct-to-consumer</td>\n      <td>Summit Partners</td>\n      <td>1380000000</td>\n      <td>1</td>\n      <td>6</td>\n      <td>1</td>\n      <td>0</td>\n    </tr>\n  </tbody>\n</table>\n<p>3070 rows × 9 columns</p>\n</div>"
     },
     "execution_count": 742,
     "metadata": {},
     "output_type": "execute_result"
    }
   ],
   "source": [
    "data_set"
   ],
   "metadata": {
    "collapsed": false
   }
  },
  {
   "cell_type": "markdown",
   "source": [
    "## Industry"
   ],
   "metadata": {
    "collapsed": false
   }
  },
  {
   "cell_type": "code",
   "execution_count": 743,
   "outputs": [
    {
     "data": {
      "text/plain": "artificial intelligence         239\nfintech                         235\ninternet software & services    197\nanalytics                       151\nbiotechnology                   131\n                               ... \nrobotics                          1\nproduct design                    1\nfilm production                   1\ndating                            1\nconsumer & retail                 1\nName: Industry, Length: 272, dtype: int64"
     },
     "execution_count": 743,
     "metadata": {},
     "output_type": "execute_result"
    }
   ],
   "source": [
    "data_set['Industry'] = data_set['Industry'].str.lower()\n",
    "data_set['Industry'].value_counts()"
   ],
   "metadata": {
    "collapsed": false
   }
  },
  {
   "cell_type": "code",
   "execution_count": 744,
   "outputs": [],
   "source": [
    "def industry_mapping(industry_name: str) -> int:\n",
    "\tindustry: dict = {'artificial intelligence': 0, 'fintech': 1, 'internet software & services': 2, 'analytics': 3, 'biotechnology': 4, 'health care': 5,\n",
    "\t\t\t\t\t  'e-commerce & direct-to-consumer': 6}\n",
    "\tif industry_name in industry.keys():\n",
    "\t\treturn industry[industry_name]\n",
    "\treturn len(industry)\n",
    "\n",
    "\n",
    "data_set['Industry'] = data_set['Industry'].map(industry_mapping)"
   ],
   "metadata": {
    "collapsed": false
   }
  },
  {
   "cell_type": "code",
   "execution_count": 745,
   "outputs": [
    {
     "data": {
      "text/plain": "      City  Country  Industry                        Investor  Last Valuation  \\\n0        2        0         7                       Techstars       200000000   \n1        0        0         0                          NVIDIA       250000000   \n2        2        0         7              Schneider Electric       550000000   \n3        2        0         7                         FJ Labs      2250000000   \n4        2        0         7                     ICT Capital       100000000   \n...    ...      ...       ...                             ...             ...   \n3065     2        0         6                  SoftBank Group     27000000000   \n3066     2        0         7                   Founders Fund    127000000000   \n3067     2        0         2   Technology Crossover Ventures      5700000000   \n3068     2        2         1  Institutional Venture Partners      6700000000   \n3069     2        2         6                 Summit Partners      1380000000   \n\n      Unicorn  Company Name Length  Company Name #Words  \\\n0           0                   19                    2   \n1           0                    8                    1   \n2           0                    5                    1   \n3           1                    4                    1   \n4           0                   12                    2   \n...       ...                  ...                  ...   \n3065        1                    8                    1   \n3066        1                    6                    1   \n3067        1                   10                    2   \n3068        1                    6                    1   \n3069        1                    6                    1   \n\n      Company Name #Special Char  \n0                              0  \n1                              0  \n2                              0  \n3                              0  \n4                              0  \n...                          ...  \n3065                           0  \n3066                           0  \n3067                           0  \n3068                           0  \n3069                           0  \n\n[3070 rows x 9 columns]",
      "text/html": "<div>\n<style scoped>\n    .dataframe tbody tr th:only-of-type {\n        vertical-align: middle;\n    }\n\n    .dataframe tbody tr th {\n        vertical-align: top;\n    }\n\n    .dataframe thead th {\n        text-align: right;\n    }\n</style>\n<table border=\"1\" class=\"dataframe\">\n  <thead>\n    <tr style=\"text-align: right;\">\n      <th></th>\n      <th>City</th>\n      <th>Country</th>\n      <th>Industry</th>\n      <th>Investor</th>\n      <th>Last Valuation</th>\n      <th>Unicorn</th>\n      <th>Company Name Length</th>\n      <th>Company Name #Words</th>\n      <th>Company Name #Special Char</th>\n    </tr>\n  </thead>\n  <tbody>\n    <tr>\n      <th>0</th>\n      <td>2</td>\n      <td>0</td>\n      <td>7</td>\n      <td>Techstars</td>\n      <td>200000000</td>\n      <td>0</td>\n      <td>19</td>\n      <td>2</td>\n      <td>0</td>\n    </tr>\n    <tr>\n      <th>1</th>\n      <td>0</td>\n      <td>0</td>\n      <td>0</td>\n      <td>NVIDIA</td>\n      <td>250000000</td>\n      <td>0</td>\n      <td>8</td>\n      <td>1</td>\n      <td>0</td>\n    </tr>\n    <tr>\n      <th>2</th>\n      <td>2</td>\n      <td>0</td>\n      <td>7</td>\n      <td>Schneider Electric</td>\n      <td>550000000</td>\n      <td>0</td>\n      <td>5</td>\n      <td>1</td>\n      <td>0</td>\n    </tr>\n    <tr>\n      <th>3</th>\n      <td>2</td>\n      <td>0</td>\n      <td>7</td>\n      <td>FJ Labs</td>\n      <td>2250000000</td>\n      <td>1</td>\n      <td>4</td>\n      <td>1</td>\n      <td>0</td>\n    </tr>\n    <tr>\n      <th>4</th>\n      <td>2</td>\n      <td>0</td>\n      <td>7</td>\n      <td>ICT Capital</td>\n      <td>100000000</td>\n      <td>0</td>\n      <td>12</td>\n      <td>2</td>\n      <td>0</td>\n    </tr>\n    <tr>\n      <th>...</th>\n      <td>...</td>\n      <td>...</td>\n      <td>...</td>\n      <td>...</td>\n      <td>...</td>\n      <td>...</td>\n      <td>...</td>\n      <td>...</td>\n      <td>...</td>\n    </tr>\n    <tr>\n      <th>3065</th>\n      <td>2</td>\n      <td>0</td>\n      <td>6</td>\n      <td>SoftBank Group</td>\n      <td>27000000000</td>\n      <td>1</td>\n      <td>8</td>\n      <td>1</td>\n      <td>0</td>\n    </tr>\n    <tr>\n      <th>3066</th>\n      <td>2</td>\n      <td>0</td>\n      <td>7</td>\n      <td>Founders Fund</td>\n      <td>127000000000</td>\n      <td>1</td>\n      <td>6</td>\n      <td>1</td>\n      <td>0</td>\n    </tr>\n    <tr>\n      <th>3067</th>\n      <td>2</td>\n      <td>0</td>\n      <td>2</td>\n      <td>Technology Crossover Ventures</td>\n      <td>5700000000</td>\n      <td>1</td>\n      <td>10</td>\n      <td>2</td>\n      <td>0</td>\n    </tr>\n    <tr>\n      <th>3068</th>\n      <td>2</td>\n      <td>2</td>\n      <td>1</td>\n      <td>Institutional Venture Partners</td>\n      <td>6700000000</td>\n      <td>1</td>\n      <td>6</td>\n      <td>1</td>\n      <td>0</td>\n    </tr>\n    <tr>\n      <th>3069</th>\n      <td>2</td>\n      <td>2</td>\n      <td>6</td>\n      <td>Summit Partners</td>\n      <td>1380000000</td>\n      <td>1</td>\n      <td>6</td>\n      <td>1</td>\n      <td>0</td>\n    </tr>\n  </tbody>\n</table>\n<p>3070 rows × 9 columns</p>\n</div>"
     },
     "execution_count": 745,
     "metadata": {},
     "output_type": "execute_result"
    }
   ],
   "source": [
    "data_set"
   ],
   "metadata": {
    "collapsed": false
   }
  },
  {
   "cell_type": "markdown",
   "source": [
    "## Investor"
   ],
   "metadata": {
    "collapsed": false
   }
  },
  {
   "cell_type": "code",
   "execution_count": 746,
   "outputs": [
    {
     "data": {
      "text/plain": "andreessen horowitz       88\ntechstars                 77\nalumni ventures           66\ny combinator              63\nsequoia capital           60\n                          ..\ndavis capital partners     1\njames parker               1\nsacramento angels          1\njmcr partners              1\nl capital partners         1\nName: Investor, Length: 1255, dtype: int64"
     },
     "execution_count": 746,
     "metadata": {},
     "output_type": "execute_result"
    }
   ],
   "source": [
    "data_set['Investor'] = data_set['Investor'].str.lower()\n",
    "data_set['Investor'].value_counts()"
   ],
   "metadata": {
    "collapsed": false
   }
  },
  {
   "cell_type": "code",
   "execution_count": 747,
   "outputs": [],
   "source": [
    "def investor_mapping(investor_name: str) -> int:\n",
    "\tinvestor: dict = {'andreessen horowitz': 0, 'techstars': 1, 'alumni ventures': 2, 'y combinator': 3, 'sequoia capital': 4, '500 global': 5,\n",
    "\t\t\t\t\t  'insight partners': 6}\n",
    "\tif investor_name in investor.keys():\n",
    "\t\treturn investor[investor_name]\n",
    "\treturn len(investor)\n",
    "\n",
    "\n",
    "data_set['Investor'] = data_set['Investor'].map(investor_mapping)"
   ],
   "metadata": {
    "collapsed": false
   }
  },
  {
   "cell_type": "code",
   "execution_count": 748,
   "outputs": [],
   "source": [
    "data_set['Investor'].fillna(0, inplace=True)"
   ],
   "metadata": {
    "collapsed": false
   }
  },
  {
   "cell_type": "code",
   "execution_count": 749,
   "outputs": [
    {
     "data": {
      "text/plain": "      City  Country  Industry  Investor  Last Valuation  Unicorn  \\\n0        2        0         7         1       200000000        0   \n1        0        0         0         7       250000000        0   \n2        2        0         7         7       550000000        0   \n3        2        0         7         7      2250000000        1   \n4        2        0         7         7       100000000        0   \n...    ...      ...       ...       ...             ...      ...   \n3065     2        0         6         7     27000000000        1   \n3066     2        0         7         7    127000000000        1   \n3067     2        0         2         7      5700000000        1   \n3068     2        2         1         7      6700000000        1   \n3069     2        2         6         7      1380000000        1   \n\n      Company Name Length  Company Name #Words  Company Name #Special Char  \n0                      19                    2                           0  \n1                       8                    1                           0  \n2                       5                    1                           0  \n3                       4                    1                           0  \n4                      12                    2                           0  \n...                   ...                  ...                         ...  \n3065                    8                    1                           0  \n3066                    6                    1                           0  \n3067                   10                    2                           0  \n3068                    6                    1                           0  \n3069                    6                    1                           0  \n\n[3070 rows x 9 columns]",
      "text/html": "<div>\n<style scoped>\n    .dataframe tbody tr th:only-of-type {\n        vertical-align: middle;\n    }\n\n    .dataframe tbody tr th {\n        vertical-align: top;\n    }\n\n    .dataframe thead th {\n        text-align: right;\n    }\n</style>\n<table border=\"1\" class=\"dataframe\">\n  <thead>\n    <tr style=\"text-align: right;\">\n      <th></th>\n      <th>City</th>\n      <th>Country</th>\n      <th>Industry</th>\n      <th>Investor</th>\n      <th>Last Valuation</th>\n      <th>Unicorn</th>\n      <th>Company Name Length</th>\n      <th>Company Name #Words</th>\n      <th>Company Name #Special Char</th>\n    </tr>\n  </thead>\n  <tbody>\n    <tr>\n      <th>0</th>\n      <td>2</td>\n      <td>0</td>\n      <td>7</td>\n      <td>1</td>\n      <td>200000000</td>\n      <td>0</td>\n      <td>19</td>\n      <td>2</td>\n      <td>0</td>\n    </tr>\n    <tr>\n      <th>1</th>\n      <td>0</td>\n      <td>0</td>\n      <td>0</td>\n      <td>7</td>\n      <td>250000000</td>\n      <td>0</td>\n      <td>8</td>\n      <td>1</td>\n      <td>0</td>\n    </tr>\n    <tr>\n      <th>2</th>\n      <td>2</td>\n      <td>0</td>\n      <td>7</td>\n      <td>7</td>\n      <td>550000000</td>\n      <td>0</td>\n      <td>5</td>\n      <td>1</td>\n      <td>0</td>\n    </tr>\n    <tr>\n      <th>3</th>\n      <td>2</td>\n      <td>0</td>\n      <td>7</td>\n      <td>7</td>\n      <td>2250000000</td>\n      <td>1</td>\n      <td>4</td>\n      <td>1</td>\n      <td>0</td>\n    </tr>\n    <tr>\n      <th>4</th>\n      <td>2</td>\n      <td>0</td>\n      <td>7</td>\n      <td>7</td>\n      <td>100000000</td>\n      <td>0</td>\n      <td>12</td>\n      <td>2</td>\n      <td>0</td>\n    </tr>\n    <tr>\n      <th>...</th>\n      <td>...</td>\n      <td>...</td>\n      <td>...</td>\n      <td>...</td>\n      <td>...</td>\n      <td>...</td>\n      <td>...</td>\n      <td>...</td>\n      <td>...</td>\n    </tr>\n    <tr>\n      <th>3065</th>\n      <td>2</td>\n      <td>0</td>\n      <td>6</td>\n      <td>7</td>\n      <td>27000000000</td>\n      <td>1</td>\n      <td>8</td>\n      <td>1</td>\n      <td>0</td>\n    </tr>\n    <tr>\n      <th>3066</th>\n      <td>2</td>\n      <td>0</td>\n      <td>7</td>\n      <td>7</td>\n      <td>127000000000</td>\n      <td>1</td>\n      <td>6</td>\n      <td>1</td>\n      <td>0</td>\n    </tr>\n    <tr>\n      <th>3067</th>\n      <td>2</td>\n      <td>0</td>\n      <td>2</td>\n      <td>7</td>\n      <td>5700000000</td>\n      <td>1</td>\n      <td>10</td>\n      <td>2</td>\n      <td>0</td>\n    </tr>\n    <tr>\n      <th>3068</th>\n      <td>2</td>\n      <td>2</td>\n      <td>1</td>\n      <td>7</td>\n      <td>6700000000</td>\n      <td>1</td>\n      <td>6</td>\n      <td>1</td>\n      <td>0</td>\n    </tr>\n    <tr>\n      <th>3069</th>\n      <td>2</td>\n      <td>2</td>\n      <td>6</td>\n      <td>7</td>\n      <td>1380000000</td>\n      <td>1</td>\n      <td>6</td>\n      <td>1</td>\n      <td>0</td>\n    </tr>\n  </tbody>\n</table>\n<p>3070 rows × 9 columns</p>\n</div>"
     },
     "execution_count": 749,
     "metadata": {},
     "output_type": "execute_result"
    }
   ],
   "source": [
    "data_set"
   ],
   "metadata": {
    "collapsed": false
   }
  },
  {
   "cell_type": "markdown",
   "source": [
    "## Last Valuation"
   ],
   "metadata": {
    "collapsed": false
   }
  },
  {
   "cell_type": "code",
   "execution_count": 750,
   "outputs": [
    {
     "data": {
      "text/plain": "1000000000    281\n15000000      152\n10000000      146\n150000000     141\n200000000     135\n             ... \n505000000       1\n475000000       1\n460000000       1\n445000000       1\n6700000000      1\nName: Last Valuation, Length: 388, dtype: int64"
     },
     "execution_count": 750,
     "metadata": {},
     "output_type": "execute_result"
    }
   ],
   "source": [
    "data_set['Last Valuation'].value_counts()"
   ],
   "metadata": {
    "collapsed": false
   }
  },
  {
   "cell_type": "code",
   "execution_count": 751,
   "outputs": [],
   "source": [
    "def valuation_mapping(valuation: int) -> int:\n",
    "\thalf = sqrt(10)\n",
    "\tscientific: list = '{:e}'.format(valuation).split('e')\n",
    "\ttail: float = float(scientific[0])\n",
    "\tpower: int = int(scientific[1])\n",
    "\tif tail >= half:\n",
    "\t\tpower += 1\n",
    "\n",
    "\treturn power"
   ],
   "metadata": {
    "collapsed": false
   }
  },
  {
   "cell_type": "code",
   "execution_count": 752,
   "outputs": [],
   "source": [
    "data_set['Last Valuation'] = data_set['Last Valuation'].map(valuation_mapping)"
   ],
   "metadata": {
    "collapsed": false
   }
  },
  {
   "cell_type": "code",
   "execution_count": 753,
   "outputs": [
    {
     "data": {
      "text/plain": "      City  Country  Industry  Investor  Last Valuation  Unicorn  \\\n0        2        0         7         1               8        0   \n1        0        0         0         7               8        0   \n2        2        0         7         7               9        0   \n3        2        0         7         7               9        1   \n4        2        0         7         7               8        0   \n...    ...      ...       ...       ...             ...      ...   \n3065     2        0         6         7              10        1   \n3066     2        0         7         7              11        1   \n3067     2        0         2         7              10        1   \n3068     2        2         1         7              10        1   \n3069     2        2         6         7               9        1   \n\n      Company Name Length  Company Name #Words  Company Name #Special Char  \n0                      19                    2                           0  \n1                       8                    1                           0  \n2                       5                    1                           0  \n3                       4                    1                           0  \n4                      12                    2                           0  \n...                   ...                  ...                         ...  \n3065                    8                    1                           0  \n3066                    6                    1                           0  \n3067                   10                    2                           0  \n3068                    6                    1                           0  \n3069                    6                    1                           0  \n\n[3070 rows x 9 columns]",
      "text/html": "<div>\n<style scoped>\n    .dataframe tbody tr th:only-of-type {\n        vertical-align: middle;\n    }\n\n    .dataframe tbody tr th {\n        vertical-align: top;\n    }\n\n    .dataframe thead th {\n        text-align: right;\n    }\n</style>\n<table border=\"1\" class=\"dataframe\">\n  <thead>\n    <tr style=\"text-align: right;\">\n      <th></th>\n      <th>City</th>\n      <th>Country</th>\n      <th>Industry</th>\n      <th>Investor</th>\n      <th>Last Valuation</th>\n      <th>Unicorn</th>\n      <th>Company Name Length</th>\n      <th>Company Name #Words</th>\n      <th>Company Name #Special Char</th>\n    </tr>\n  </thead>\n  <tbody>\n    <tr>\n      <th>0</th>\n      <td>2</td>\n      <td>0</td>\n      <td>7</td>\n      <td>1</td>\n      <td>8</td>\n      <td>0</td>\n      <td>19</td>\n      <td>2</td>\n      <td>0</td>\n    </tr>\n    <tr>\n      <th>1</th>\n      <td>0</td>\n      <td>0</td>\n      <td>0</td>\n      <td>7</td>\n      <td>8</td>\n      <td>0</td>\n      <td>8</td>\n      <td>1</td>\n      <td>0</td>\n    </tr>\n    <tr>\n      <th>2</th>\n      <td>2</td>\n      <td>0</td>\n      <td>7</td>\n      <td>7</td>\n      <td>9</td>\n      <td>0</td>\n      <td>5</td>\n      <td>1</td>\n      <td>0</td>\n    </tr>\n    <tr>\n      <th>3</th>\n      <td>2</td>\n      <td>0</td>\n      <td>7</td>\n      <td>7</td>\n      <td>9</td>\n      <td>1</td>\n      <td>4</td>\n      <td>1</td>\n      <td>0</td>\n    </tr>\n    <tr>\n      <th>4</th>\n      <td>2</td>\n      <td>0</td>\n      <td>7</td>\n      <td>7</td>\n      <td>8</td>\n      <td>0</td>\n      <td>12</td>\n      <td>2</td>\n      <td>0</td>\n    </tr>\n    <tr>\n      <th>...</th>\n      <td>...</td>\n      <td>...</td>\n      <td>...</td>\n      <td>...</td>\n      <td>...</td>\n      <td>...</td>\n      <td>...</td>\n      <td>...</td>\n      <td>...</td>\n    </tr>\n    <tr>\n      <th>3065</th>\n      <td>2</td>\n      <td>0</td>\n      <td>6</td>\n      <td>7</td>\n      <td>10</td>\n      <td>1</td>\n      <td>8</td>\n      <td>1</td>\n      <td>0</td>\n    </tr>\n    <tr>\n      <th>3066</th>\n      <td>2</td>\n      <td>0</td>\n      <td>7</td>\n      <td>7</td>\n      <td>11</td>\n      <td>1</td>\n      <td>6</td>\n      <td>1</td>\n      <td>0</td>\n    </tr>\n    <tr>\n      <th>3067</th>\n      <td>2</td>\n      <td>0</td>\n      <td>2</td>\n      <td>7</td>\n      <td>10</td>\n      <td>1</td>\n      <td>10</td>\n      <td>2</td>\n      <td>0</td>\n    </tr>\n    <tr>\n      <th>3068</th>\n      <td>2</td>\n      <td>2</td>\n      <td>1</td>\n      <td>7</td>\n      <td>10</td>\n      <td>1</td>\n      <td>6</td>\n      <td>1</td>\n      <td>0</td>\n    </tr>\n    <tr>\n      <th>3069</th>\n      <td>2</td>\n      <td>2</td>\n      <td>6</td>\n      <td>7</td>\n      <td>9</td>\n      <td>1</td>\n      <td>6</td>\n      <td>1</td>\n      <td>0</td>\n    </tr>\n  </tbody>\n</table>\n<p>3070 rows × 9 columns</p>\n</div>"
     },
     "execution_count": 753,
     "metadata": {},
     "output_type": "execute_result"
    }
   ],
   "source": [
    "data_set"
   ],
   "metadata": {
    "collapsed": false
   }
  },
  {
   "cell_type": "markdown",
   "source": [
    "# Training"
   ],
   "metadata": {
    "collapsed": false
   }
  },
  {
   "cell_type": "code",
   "execution_count": 754,
   "outputs": [
    {
     "name": "stdout",
     "output_type": "stream",
     "text": [
      "<class 'pandas.core.frame.DataFrame'>\n",
      "RangeIndex: 3070 entries, 0 to 3069\n",
      "Data columns (total 9 columns):\n",
      " #   Column                      Non-Null Count  Dtype\n",
      "---  ------                      --------------  -----\n",
      " 0   City                        3070 non-null   int64\n",
      " 1   Country                     3070 non-null   int64\n",
      " 2   Industry                    3070 non-null   int64\n",
      " 3   Investor                    3070 non-null   int64\n",
      " 4   Last Valuation              3070 non-null   int64\n",
      " 5   Unicorn                     3070 non-null   int64\n",
      " 6   Company Name Length         3070 non-null   int64\n",
      " 7   Company Name #Words         3070 non-null   int64\n",
      " 8   Company Name #Special Char  3070 non-null   int64\n",
      "dtypes: int64(9)\n",
      "memory usage: 216.0 KB\n"
     ]
    }
   ],
   "source": [
    "data_set.info()\n"
   ],
   "metadata": {
    "collapsed": false
   }
  }
 ],
 "metadata": {
  "kernelspec": {
   "display_name": "Python 3",
   "language": "python",
   "name": "python3"
  },
  "language_info": {
   "codemirror_mode": {
    "name": "ipython",
    "version": 2
   },
   "file_extension": ".py",
   "mimetype": "text/x-python",
   "name": "python",
   "nbconvert_exporter": "python",
   "pygments_lexer": "ipython2",
   "version": "2.7.6"
  }
 },
 "nbformat": 4,
 "nbformat_minor": 0
}
