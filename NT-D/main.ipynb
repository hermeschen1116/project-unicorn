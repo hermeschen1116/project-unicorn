{
 "cells": [
  {
   "cell_type": "code",
   "execution_count": 3,
   "outputs": [],
   "source": [
    "import numpy as np\n",
    "import pandas as pd"
   ],
   "metadata": {
    "collapsed": false
   }
  },
  {
   "cell_type": "code",
   "execution_count": 41,
   "outputs": [],
   "source": [
    "data = pd.read_csv('source/source.csv', encoding='utf-8', sep=',')"
   ],
   "metadata": {
    "collapsed": false
   }
  },
  {
   "cell_type": "code",
   "execution_count": 40,
   "outputs": [
    {
     "name": "stdout",
     "output_type": "stream",
     "text": [
      "<class 'pandas.core.frame.DataFrame'>\n",
      "RangeIndex: 8991 entries, 0 to 8990\n",
      "Data columns (total 11 columns):\n",
      " #   Column            Non-Null Count  Dtype  \n",
      "---  ------            --------------  -----  \n",
      " 0   Company           8991 non-null   object \n",
      " 1   Founded Year      8725 non-null   float64\n",
      " 2   City              8171 non-null   object \n",
      " 3   Nation            8171 non-null   object \n",
      " 4   Industry          8280 non-null   object \n",
      " 5   Founder           6450 non-null   object \n",
      " 6   Investor          5273 non-null   object \n",
      " 7   Total Founding    4502 non-null   float64\n",
      " 8   Company Type      8164 non-null   object \n",
      " 9   Operating Status  8674 non-null   object \n",
      " 10  Last Valuation    2355 non-null   float64\n",
      "dtypes: float64(3), object(8)\n",
      "memory usage: 772.8+ KB\n"
     ]
    }
   ],
   "source": [
    "data.info()\n"
   ],
   "metadata": {
    "collapsed": false
   }
  }
 ],
 "metadata": {
  "kernelspec": {
   "display_name": "Python 3",
   "language": "python",
   "name": "python3"
  },
  "language_info": {
   "codemirror_mode": {
    "name": "ipython",
    "version": 2
   },
   "file_extension": ".py",
   "mimetype": "text/x-python",
   "name": "python",
   "nbconvert_exporter": "python",
   "pygments_lexer": "ipython2",
   "version": "2.7.6"
  }
 },
 "nbformat": 4,
 "nbformat_minor": 0
}
