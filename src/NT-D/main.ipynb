{
 "cells": [
  {
   "cell_type": "code",
   "execution_count": 1,
   "metadata": {},
   "outputs": [],
   "source": [
    "import numpy as np\n",
    "from math import sqrt\n",
    "from typing import Any\n",
    "\n",
    "import pandas as pd\n",
    "import seaborn as sb\n",
    "import torch.jit\n",
    "from lightning import Trainer\n",
    "from lightning.lite import seed_everything\n",
    "from sklearn import preprocessing\n",
    "\n",
    "from custom_lib import Model, Data"
   ]
  },
  {
   "cell_type": "code",
   "execution_count": 2,
   "metadata": {},
   "outputs": [],
   "source": [
    "%matplotlib inline\n",
    "sb.set()"
   ]
  },
  {
   "cell_type": "markdown",
   "metadata": {},
   "source": [
    "# Data Processing"
   ]
  },
  {
   "cell_type": "code",
   "execution_count": 3,
   "metadata": {},
   "outputs": [
    {
     "name": "stdout",
     "output_type": "stream",
     "text": [
      "<class 'pandas.core.frame.DataFrame'>\n",
      "RangeIndex: 3070 entries, 0 to 3069\n",
      "Data columns (total 7 columns):\n",
      " #   Column          Non-Null Count  Dtype \n",
      "---  ------          --------------  ----- \n",
      " 0   Company         3070 non-null   object\n",
      " 1   City            3050 non-null   object\n",
      " 2   Country         3068 non-null   object\n",
      " 3   Industry        3070 non-null   object\n",
      " 4   Investor        2940 non-null   object\n",
      " 5   Last Valuation  3070 non-null   int64 \n",
      " 6   Unicorn         3070 non-null   int64 \n",
      "dtypes: int64(2), object(5)\n",
      "memory usage: 168.0+ KB\n"
     ]
    }
   ],
   "source": [
    "data_set: Any = pd.read_csv('data/train_data.csv', encoding='utf-8')\n",
    "data_set.info()"
   ]
  },
  {
   "cell_type": "code",
   "execution_count": 4,
   "metadata": {},
   "outputs": [
    {
     "data": {
      "text/plain": "               Company           City        Country                 Industry  \\\n0  Slingshot Aerospace         Austin  United States                Aerospace   \n1             Deepgram  San Francisco  United States  Artificial intelligence   \n2                Sense      Cambridge  United States     Consumer Electronics   \n3                 Zume      Camarillo  United States                 Consumer   \n4         Plant Prefab         Rialto  United States             Architecture   \n\n             Investor  Last Valuation  Unicorn  \n0           Techstars       200000000        0  \n1              NVIDIA       250000000        0  \n2  Schneider Electric       550000000        0  \n3             FJ Labs      2250000000        1  \n4         ICT Capital       100000000        0  ",
      "text/html": "<div>\n<style scoped>\n    .dataframe tbody tr th:only-of-type {\n        vertical-align: middle;\n    }\n\n    .dataframe tbody tr th {\n        vertical-align: top;\n    }\n\n    .dataframe thead th {\n        text-align: right;\n    }\n</style>\n<table border=\"1\" class=\"dataframe\">\n  <thead>\n    <tr style=\"text-align: right;\">\n      <th></th>\n      <th>Company</th>\n      <th>City</th>\n      <th>Country</th>\n      <th>Industry</th>\n      <th>Investor</th>\n      <th>Last Valuation</th>\n      <th>Unicorn</th>\n    </tr>\n  </thead>\n  <tbody>\n    <tr>\n      <th>0</th>\n      <td>Slingshot Aerospace</td>\n      <td>Austin</td>\n      <td>United States</td>\n      <td>Aerospace</td>\n      <td>Techstars</td>\n      <td>200000000</td>\n      <td>0</td>\n    </tr>\n    <tr>\n      <th>1</th>\n      <td>Deepgram</td>\n      <td>San Francisco</td>\n      <td>United States</td>\n      <td>Artificial intelligence</td>\n      <td>NVIDIA</td>\n      <td>250000000</td>\n      <td>0</td>\n    </tr>\n    <tr>\n      <th>2</th>\n      <td>Sense</td>\n      <td>Cambridge</td>\n      <td>United States</td>\n      <td>Consumer Electronics</td>\n      <td>Schneider Electric</td>\n      <td>550000000</td>\n      <td>0</td>\n    </tr>\n    <tr>\n      <th>3</th>\n      <td>Zume</td>\n      <td>Camarillo</td>\n      <td>United States</td>\n      <td>Consumer</td>\n      <td>FJ Labs</td>\n      <td>2250000000</td>\n      <td>1</td>\n    </tr>\n    <tr>\n      <th>4</th>\n      <td>Plant Prefab</td>\n      <td>Rialto</td>\n      <td>United States</td>\n      <td>Architecture</td>\n      <td>ICT Capital</td>\n      <td>100000000</td>\n      <td>0</td>\n    </tr>\n  </tbody>\n</table>\n</div>"
     },
     "execution_count": 4,
     "metadata": {},
     "output_type": "execute_result"
    }
   ],
   "source": [
    "data_set.head()"
   ]
  },
  {
   "cell_type": "markdown",
   "metadata": {},
   "source": [
    "## Company Name"
   ]
  },
  {
   "cell_type": "code",
   "execution_count": 5,
   "metadata": {},
   "outputs": [],
   "source": [
    "company: list = data_set['Company'].tolist()"
   ]
  },
  {
   "cell_type": "code",
   "execution_count": 6,
   "metadata": {},
   "outputs": [],
   "source": [
    "def count_special_char(name: str) -> int:\n",
    "\tspecial_char: list = ['!', '\"', '#', '$', '%', '&', \"'\", '(', ')', '*', '+', ',', '-', '.', '/', '0', '1', '2', '3', '4', '5', '6', '7', '8', '9', ':', ';', '<', '=', '>', '?', '@']\n",
    "\tspecial_char_count: int = 0\n",
    "\tfor c in name:\n",
    "\t\tif c in special_char:\n",
    "\t\t\tspecial_char_count += 1\n",
    "\n",
    "\treturn special_char_count"
   ]
  },
  {
   "cell_type": "code",
   "execution_count": 7,
   "metadata": {},
   "outputs": [],
   "source": [
    "company_length: list = [len(c) for c in company]\n",
    "company_special: list = [count_special_char(c) for c in company]"
   ]
  },
  {
   "cell_type": "code",
   "execution_count": 8,
   "metadata": {},
   "outputs": [],
   "source": [
    "data_set.insert(0, 'Company Name Length', company_length)\n",
    "data_set.insert(1, 'Company Name #Special Char', company_special)\n",
    "data_set.drop('Company', axis=1, inplace=True)"
   ]
  },
  {
   "cell_type": "code",
   "execution_count": 9,
   "metadata": {},
   "outputs": [
    {
     "data": {
      "text/plain": "   Company Name Length  Company Name #Special Char           City  \\\n0                   19                           0         Austin   \n1                    8                           0  San Francisco   \n2                    5                           0      Cambridge   \n3                    4                           0      Camarillo   \n4                   12                           0         Rialto   \n\n         Country                 Industry            Investor  Last Valuation  \\\n0  United States                Aerospace           Techstars       200000000   \n1  United States  Artificial intelligence              NVIDIA       250000000   \n2  United States     Consumer Electronics  Schneider Electric       550000000   \n3  United States                 Consumer             FJ Labs      2250000000   \n4  United States             Architecture         ICT Capital       100000000   \n\n   Unicorn  \n0        0  \n1        0  \n2        0  \n3        1  \n4        0  ",
      "text/html": "<div>\n<style scoped>\n    .dataframe tbody tr th:only-of-type {\n        vertical-align: middle;\n    }\n\n    .dataframe tbody tr th {\n        vertical-align: top;\n    }\n\n    .dataframe thead th {\n        text-align: right;\n    }\n</style>\n<table border=\"1\" class=\"dataframe\">\n  <thead>\n    <tr style=\"text-align: right;\">\n      <th></th>\n      <th>Company Name Length</th>\n      <th>Company Name #Special Char</th>\n      <th>City</th>\n      <th>Country</th>\n      <th>Industry</th>\n      <th>Investor</th>\n      <th>Last Valuation</th>\n      <th>Unicorn</th>\n    </tr>\n  </thead>\n  <tbody>\n    <tr>\n      <th>0</th>\n      <td>19</td>\n      <td>0</td>\n      <td>Austin</td>\n      <td>United States</td>\n      <td>Aerospace</td>\n      <td>Techstars</td>\n      <td>200000000</td>\n      <td>0</td>\n    </tr>\n    <tr>\n      <th>1</th>\n      <td>8</td>\n      <td>0</td>\n      <td>San Francisco</td>\n      <td>United States</td>\n      <td>Artificial intelligence</td>\n      <td>NVIDIA</td>\n      <td>250000000</td>\n      <td>0</td>\n    </tr>\n    <tr>\n      <th>2</th>\n      <td>5</td>\n      <td>0</td>\n      <td>Cambridge</td>\n      <td>United States</td>\n      <td>Consumer Electronics</td>\n      <td>Schneider Electric</td>\n      <td>550000000</td>\n      <td>0</td>\n    </tr>\n    <tr>\n      <th>3</th>\n      <td>4</td>\n      <td>0</td>\n      <td>Camarillo</td>\n      <td>United States</td>\n      <td>Consumer</td>\n      <td>FJ Labs</td>\n      <td>2250000000</td>\n      <td>1</td>\n    </tr>\n    <tr>\n      <th>4</th>\n      <td>12</td>\n      <td>0</td>\n      <td>Rialto</td>\n      <td>United States</td>\n      <td>Architecture</td>\n      <td>ICT Capital</td>\n      <td>100000000</td>\n      <td>0</td>\n    </tr>\n  </tbody>\n</table>\n</div>"
     },
     "execution_count": 9,
     "metadata": {},
     "output_type": "execute_result"
    }
   ],
   "source": [
    "data_set.head()"
   ]
  },
  {
   "cell_type": "markdown",
   "metadata": {},
   "source": [
    "## Country"
   ]
  },
  {
   "cell_type": "code",
   "execution_count": 10,
   "metadata": {},
   "outputs": [
    {
     "data": {
      "text/plain": "united states           2506\nchina                    173\nindia                     70\nunited kingdom            50\ngermany                   30\nisrael                    24\nfrance                    24\ncanada                    19\nsouth korea               17\nbrazil                    16\nsingapore                 14\nsweden                     8\nmexico                     8\naustralia                  8\nindonesia                  7\nhong kong                  7\nnetherlands                7\njapan                      6\nswitzerland                6\nireland                    6\nspain                      5\nfinland                    5\nnorway                     5\nunited arab emirates       4\nbelgium                    3\nturkey                     3\nthailand                   3\ncolombia                   3\nphilippines                2\nchile                      2\nitaly                      2\nsouth africa               2\nlithuania                  2\ncroatia                    2\naustria                    2\nvietnam                    2\ndenmark                    2\nluxembourg                 1\nbahamas                    1\nargentina                  1\nnigeria                    1\nczech republic             1\nmalaysia                   1\nliechtenstein              1\nseychelles                 1\nportugal                   1\npakistan                   1\necuador                    1\nestonia                    1\nbermuda                    1\nName: Country, dtype: int64"
     },
     "execution_count": 10,
     "metadata": {},
     "output_type": "execute_result"
    }
   ],
   "source": [
    "data_set['Country'] = data_set['Country'].str.lower()\n",
    "data_set['Country'].value_counts()"
   ]
  },
  {
   "cell_type": "code",
   "execution_count": 11,
   "metadata": {},
   "outputs": [],
   "source": [
    "def country_mapping(country_name: str) -> int:\n",
    "\tcountry: dict = {'united states': 0, 'china': 1}\n",
    "\tif country_name in country.keys():\n",
    "\t\treturn country[country_name]\n",
    "\treturn len(country)"
   ]
  },
  {
   "cell_type": "code",
   "execution_count": 12,
   "metadata": {},
   "outputs": [],
   "source": [
    "data_set['Country'] = data_set['Country'].map(country_mapping)"
   ]
  },
  {
   "cell_type": "code",
   "execution_count": 13,
   "metadata": {},
   "outputs": [],
   "source": [
    "data_set['Country'].fillna(0, inplace=True)"
   ]
  },
  {
   "cell_type": "code",
   "execution_count": 14,
   "metadata": {},
   "outputs": [
    {
     "data": {
      "text/plain": "   Company Name Length  Company Name #Special Char           City  Country  \\\n0                   19                           0         Austin        0   \n1                    8                           0  San Francisco        0   \n2                    5                           0      Cambridge        0   \n3                    4                           0      Camarillo        0   \n4                   12                           0         Rialto        0   \n\n                  Industry            Investor  Last Valuation  Unicorn  \n0                Aerospace           Techstars       200000000        0  \n1  Artificial intelligence              NVIDIA       250000000        0  \n2     Consumer Electronics  Schneider Electric       550000000        0  \n3                 Consumer             FJ Labs      2250000000        1  \n4             Architecture         ICT Capital       100000000        0  ",
      "text/html": "<div>\n<style scoped>\n    .dataframe tbody tr th:only-of-type {\n        vertical-align: middle;\n    }\n\n    .dataframe tbody tr th {\n        vertical-align: top;\n    }\n\n    .dataframe thead th {\n        text-align: right;\n    }\n</style>\n<table border=\"1\" class=\"dataframe\">\n  <thead>\n    <tr style=\"text-align: right;\">\n      <th></th>\n      <th>Company Name Length</th>\n      <th>Company Name #Special Char</th>\n      <th>City</th>\n      <th>Country</th>\n      <th>Industry</th>\n      <th>Investor</th>\n      <th>Last Valuation</th>\n      <th>Unicorn</th>\n    </tr>\n  </thead>\n  <tbody>\n    <tr>\n      <th>0</th>\n      <td>19</td>\n      <td>0</td>\n      <td>Austin</td>\n      <td>0</td>\n      <td>Aerospace</td>\n      <td>Techstars</td>\n      <td>200000000</td>\n      <td>0</td>\n    </tr>\n    <tr>\n      <th>1</th>\n      <td>8</td>\n      <td>0</td>\n      <td>San Francisco</td>\n      <td>0</td>\n      <td>Artificial intelligence</td>\n      <td>NVIDIA</td>\n      <td>250000000</td>\n      <td>0</td>\n    </tr>\n    <tr>\n      <th>2</th>\n      <td>5</td>\n      <td>0</td>\n      <td>Cambridge</td>\n      <td>0</td>\n      <td>Consumer Electronics</td>\n      <td>Schneider Electric</td>\n      <td>550000000</td>\n      <td>0</td>\n    </tr>\n    <tr>\n      <th>3</th>\n      <td>4</td>\n      <td>0</td>\n      <td>Camarillo</td>\n      <td>0</td>\n      <td>Consumer</td>\n      <td>FJ Labs</td>\n      <td>2250000000</td>\n      <td>1</td>\n    </tr>\n    <tr>\n      <th>4</th>\n      <td>12</td>\n      <td>0</td>\n      <td>Rialto</td>\n      <td>0</td>\n      <td>Architecture</td>\n      <td>ICT Capital</td>\n      <td>100000000</td>\n      <td>0</td>\n    </tr>\n  </tbody>\n</table>\n</div>"
     },
     "execution_count": 14,
     "metadata": {},
     "output_type": "execute_result"
    }
   ],
   "source": [
    "data_set.head()"
   ]
  },
  {
   "cell_type": "markdown",
   "metadata": {},
   "source": [
    "## City\n"
   ]
  },
  {
   "cell_type": "code",
   "execution_count": 15,
   "metadata": {},
   "outputs": [
    {
     "data": {
      "text/plain": "san francisco            480\nnew york                 365\nboston                    97\npalo alto                 72\nlos angeles               66\n                        ... \nnorth charleston           1\nwayland                    1\nlake oswego                1\nhonolulu                   1\nla plaine saint-denis      1\nName: City, Length: 502, dtype: int64"
     },
     "execution_count": 15,
     "metadata": {},
     "output_type": "execute_result"
    }
   ],
   "source": [
    "data_set['City'] = data_set['City'].str.lower()\n",
    "data_set['City'].value_counts()"
   ]
  },
  {
   "cell_type": "code",
   "execution_count": 16,
   "metadata": {},
   "outputs": [],
   "source": [
    "def city_mapping(city_name: str) -> int:\n",
    "\tcity: dict = {'san francisco': 0, 'new york': 1}\n",
    "\tif city_name in city.keys():\n",
    "\t\treturn city[city_name]\n",
    "\treturn len(city)"
   ]
  },
  {
   "cell_type": "code",
   "execution_count": 17,
   "metadata": {},
   "outputs": [],
   "source": [
    "data_set['City'] = data_set['City'].map(city_mapping)"
   ]
  },
  {
   "cell_type": "code",
   "execution_count": 18,
   "metadata": {},
   "outputs": [],
   "source": [
    "data_set['City'].fillna(data_set.groupby('Country')['City'].transform(lambda x: x.mode().iat[0]), inplace=True)"
   ]
  },
  {
   "cell_type": "code",
   "execution_count": 19,
   "metadata": {},
   "outputs": [
    {
     "data": {
      "text/plain": "   Company Name Length  Company Name #Special Char  City  Country  \\\n0                   19                           0     2        0   \n1                    8                           0     0        0   \n2                    5                           0     2        0   \n3                    4                           0     2        0   \n4                   12                           0     2        0   \n\n                  Industry            Investor  Last Valuation  Unicorn  \n0                Aerospace           Techstars       200000000        0  \n1  Artificial intelligence              NVIDIA       250000000        0  \n2     Consumer Electronics  Schneider Electric       550000000        0  \n3                 Consumer             FJ Labs      2250000000        1  \n4             Architecture         ICT Capital       100000000        0  ",
      "text/html": "<div>\n<style scoped>\n    .dataframe tbody tr th:only-of-type {\n        vertical-align: middle;\n    }\n\n    .dataframe tbody tr th {\n        vertical-align: top;\n    }\n\n    .dataframe thead th {\n        text-align: right;\n    }\n</style>\n<table border=\"1\" class=\"dataframe\">\n  <thead>\n    <tr style=\"text-align: right;\">\n      <th></th>\n      <th>Company Name Length</th>\n      <th>Company Name #Special Char</th>\n      <th>City</th>\n      <th>Country</th>\n      <th>Industry</th>\n      <th>Investor</th>\n      <th>Last Valuation</th>\n      <th>Unicorn</th>\n    </tr>\n  </thead>\n  <tbody>\n    <tr>\n      <th>0</th>\n      <td>19</td>\n      <td>0</td>\n      <td>2</td>\n      <td>0</td>\n      <td>Aerospace</td>\n      <td>Techstars</td>\n      <td>200000000</td>\n      <td>0</td>\n    </tr>\n    <tr>\n      <th>1</th>\n      <td>8</td>\n      <td>0</td>\n      <td>0</td>\n      <td>0</td>\n      <td>Artificial intelligence</td>\n      <td>NVIDIA</td>\n      <td>250000000</td>\n      <td>0</td>\n    </tr>\n    <tr>\n      <th>2</th>\n      <td>5</td>\n      <td>0</td>\n      <td>2</td>\n      <td>0</td>\n      <td>Consumer Electronics</td>\n      <td>Schneider Electric</td>\n      <td>550000000</td>\n      <td>0</td>\n    </tr>\n    <tr>\n      <th>3</th>\n      <td>4</td>\n      <td>0</td>\n      <td>2</td>\n      <td>0</td>\n      <td>Consumer</td>\n      <td>FJ Labs</td>\n      <td>2250000000</td>\n      <td>1</td>\n    </tr>\n    <tr>\n      <th>4</th>\n      <td>12</td>\n      <td>0</td>\n      <td>2</td>\n      <td>0</td>\n      <td>Architecture</td>\n      <td>ICT Capital</td>\n      <td>100000000</td>\n      <td>0</td>\n    </tr>\n  </tbody>\n</table>\n</div>"
     },
     "execution_count": 19,
     "metadata": {},
     "output_type": "execute_result"
    }
   ],
   "source": [
    "data_set.head()"
   ]
  },
  {
   "cell_type": "markdown",
   "metadata": {},
   "source": [
    "## Industry"
   ]
  },
  {
   "cell_type": "code",
   "execution_count": 20,
   "metadata": {},
   "outputs": [
    {
     "data": {
      "text/plain": "artificial intelligence         239\nfintech                         235\ninternet software & services    197\nanalytics                       151\nbiotechnology                   131\n                               ... \nrobotics                          1\nproduct design                    1\nfilm production                   1\ndating                            1\nconsumer & retail                 1\nName: Industry, Length: 272, dtype: int64"
     },
     "execution_count": 20,
     "metadata": {},
     "output_type": "execute_result"
    }
   ],
   "source": [
    "data_set['Industry'] = data_set['Industry'].str.lower()\n",
    "data_set['Industry'].value_counts()"
   ]
  },
  {
   "cell_type": "code",
   "execution_count": 21,
   "metadata": {},
   "outputs": [],
   "source": [
    "def industry_mapping(industry_name: str) -> int:\n",
    "\tindustry: dict = {'artificial intelligence': 0, 'fintech': 1, 'internet software & services': 2, 'analytics': 3, 'biotechnology': 4, 'health care': 5, 'e-commerce & direct-to-consumer': 6}\n",
    "\tif industry_name in industry.keys():\n",
    "\t\treturn industry[industry_name]\n",
    "\treturn len(industry)"
   ]
  },
  {
   "cell_type": "code",
   "execution_count": 22,
   "metadata": {},
   "outputs": [],
   "source": [
    "data_set['Industry'] = data_set['Industry'].map(industry_mapping)"
   ]
  },
  {
   "cell_type": "code",
   "execution_count": 23,
   "metadata": {},
   "outputs": [
    {
     "data": {
      "text/plain": "   Company Name Length  Company Name #Special Char  City  Country  Industry  \\\n0                   19                           0     2        0         7   \n1                    8                           0     0        0         0   \n2                    5                           0     2        0         7   \n3                    4                           0     2        0         7   \n4                   12                           0     2        0         7   \n\n             Investor  Last Valuation  Unicorn  \n0           Techstars       200000000        0  \n1              NVIDIA       250000000        0  \n2  Schneider Electric       550000000        0  \n3             FJ Labs      2250000000        1  \n4         ICT Capital       100000000        0  ",
      "text/html": "<div>\n<style scoped>\n    .dataframe tbody tr th:only-of-type {\n        vertical-align: middle;\n    }\n\n    .dataframe tbody tr th {\n        vertical-align: top;\n    }\n\n    .dataframe thead th {\n        text-align: right;\n    }\n</style>\n<table border=\"1\" class=\"dataframe\">\n  <thead>\n    <tr style=\"text-align: right;\">\n      <th></th>\n      <th>Company Name Length</th>\n      <th>Company Name #Special Char</th>\n      <th>City</th>\n      <th>Country</th>\n      <th>Industry</th>\n      <th>Investor</th>\n      <th>Last Valuation</th>\n      <th>Unicorn</th>\n    </tr>\n  </thead>\n  <tbody>\n    <tr>\n      <th>0</th>\n      <td>19</td>\n      <td>0</td>\n      <td>2</td>\n      <td>0</td>\n      <td>7</td>\n      <td>Techstars</td>\n      <td>200000000</td>\n      <td>0</td>\n    </tr>\n    <tr>\n      <th>1</th>\n      <td>8</td>\n      <td>0</td>\n      <td>0</td>\n      <td>0</td>\n      <td>0</td>\n      <td>NVIDIA</td>\n      <td>250000000</td>\n      <td>0</td>\n    </tr>\n    <tr>\n      <th>2</th>\n      <td>5</td>\n      <td>0</td>\n      <td>2</td>\n      <td>0</td>\n      <td>7</td>\n      <td>Schneider Electric</td>\n      <td>550000000</td>\n      <td>0</td>\n    </tr>\n    <tr>\n      <th>3</th>\n      <td>4</td>\n      <td>0</td>\n      <td>2</td>\n      <td>0</td>\n      <td>7</td>\n      <td>FJ Labs</td>\n      <td>2250000000</td>\n      <td>1</td>\n    </tr>\n    <tr>\n      <th>4</th>\n      <td>12</td>\n      <td>0</td>\n      <td>2</td>\n      <td>0</td>\n      <td>7</td>\n      <td>ICT Capital</td>\n      <td>100000000</td>\n      <td>0</td>\n    </tr>\n  </tbody>\n</table>\n</div>"
     },
     "execution_count": 23,
     "metadata": {},
     "output_type": "execute_result"
    }
   ],
   "source": [
    "data_set.head()"
   ]
  },
  {
   "cell_type": "markdown",
   "metadata": {},
   "source": [
    "## Investor"
   ]
  },
  {
   "cell_type": "code",
   "execution_count": 24,
   "metadata": {},
   "outputs": [
    {
     "data": {
      "text/plain": "andreessen horowitz       88\ntechstars                 77\nalumni ventures           66\ny combinator              63\nsequoia capital           60\n                          ..\ndavis capital partners     1\njames parker               1\nsacramento angels          1\njmcr partners              1\nl capital partners         1\nName: Investor, Length: 1255, dtype: int64"
     },
     "execution_count": 24,
     "metadata": {},
     "output_type": "execute_result"
    }
   ],
   "source": [
    "data_set['Investor'] = data_set['Investor'].str.lower()\n",
    "data_set['Investor'].value_counts()"
   ]
  },
  {
   "cell_type": "code",
   "execution_count": 25,
   "metadata": {},
   "outputs": [],
   "source": [
    "def investor_mapping(investor_name: str) -> int:\n",
    "\tinvestor: dict = {'andreessen horowitz': 0, 'techstars': 1, 'alumni ventures': 2, 'y combinator': 3, 'sequoia capital': 4, '500 global': 5, 'insight partners': 6}\n",
    "\tif investor_name in investor.keys():\n",
    "\t\treturn investor[investor_name]\n",
    "\treturn len(investor)"
   ]
  },
  {
   "cell_type": "code",
   "execution_count": 26,
   "metadata": {},
   "outputs": [],
   "source": [
    "data_set['Investor'] = data_set['Investor'].map(investor_mapping)"
   ]
  },
  {
   "cell_type": "code",
   "execution_count": 27,
   "metadata": {},
   "outputs": [],
   "source": [
    "data_set['Investor'].fillna(0, inplace=True)"
   ]
  },
  {
   "cell_type": "code",
   "execution_count": 28,
   "metadata": {},
   "outputs": [
    {
     "data": {
      "text/plain": "   Company Name Length  Company Name #Special Char  City  Country  Industry  \\\n0                   19                           0     2        0         7   \n1                    8                           0     0        0         0   \n2                    5                           0     2        0         7   \n3                    4                           0     2        0         7   \n4                   12                           0     2        0         7   \n\n   Investor  Last Valuation  Unicorn  \n0         1       200000000        0  \n1         7       250000000        0  \n2         7       550000000        0  \n3         7      2250000000        1  \n4         7       100000000        0  ",
      "text/html": "<div>\n<style scoped>\n    .dataframe tbody tr th:only-of-type {\n        vertical-align: middle;\n    }\n\n    .dataframe tbody tr th {\n        vertical-align: top;\n    }\n\n    .dataframe thead th {\n        text-align: right;\n    }\n</style>\n<table border=\"1\" class=\"dataframe\">\n  <thead>\n    <tr style=\"text-align: right;\">\n      <th></th>\n      <th>Company Name Length</th>\n      <th>Company Name #Special Char</th>\n      <th>City</th>\n      <th>Country</th>\n      <th>Industry</th>\n      <th>Investor</th>\n      <th>Last Valuation</th>\n      <th>Unicorn</th>\n    </tr>\n  </thead>\n  <tbody>\n    <tr>\n      <th>0</th>\n      <td>19</td>\n      <td>0</td>\n      <td>2</td>\n      <td>0</td>\n      <td>7</td>\n      <td>1</td>\n      <td>200000000</td>\n      <td>0</td>\n    </tr>\n    <tr>\n      <th>1</th>\n      <td>8</td>\n      <td>0</td>\n      <td>0</td>\n      <td>0</td>\n      <td>0</td>\n      <td>7</td>\n      <td>250000000</td>\n      <td>0</td>\n    </tr>\n    <tr>\n      <th>2</th>\n      <td>5</td>\n      <td>0</td>\n      <td>2</td>\n      <td>0</td>\n      <td>7</td>\n      <td>7</td>\n      <td>550000000</td>\n      <td>0</td>\n    </tr>\n    <tr>\n      <th>3</th>\n      <td>4</td>\n      <td>0</td>\n      <td>2</td>\n      <td>0</td>\n      <td>7</td>\n      <td>7</td>\n      <td>2250000000</td>\n      <td>1</td>\n    </tr>\n    <tr>\n      <th>4</th>\n      <td>12</td>\n      <td>0</td>\n      <td>2</td>\n      <td>0</td>\n      <td>7</td>\n      <td>7</td>\n      <td>100000000</td>\n      <td>0</td>\n    </tr>\n  </tbody>\n</table>\n</div>"
     },
     "execution_count": 28,
     "metadata": {},
     "output_type": "execute_result"
    }
   ],
   "source": [
    "data_set.head()"
   ]
  },
  {
   "cell_type": "markdown",
   "metadata": {},
   "source": [
    "## Last Valuation"
   ]
  },
  {
   "cell_type": "code",
   "execution_count": 29,
   "metadata": {},
   "outputs": [
    {
     "data": {
      "text/plain": "1000000000    281\n15000000      152\n10000000      146\n150000000     141\n200000000     135\n             ... \n505000000       1\n475000000       1\n460000000       1\n445000000       1\n6700000000      1\nName: Last Valuation, Length: 388, dtype: int64"
     },
     "execution_count": 29,
     "metadata": {},
     "output_type": "execute_result"
    }
   ],
   "source": [
    "data_set['Last Valuation'].value_counts()"
   ]
  },
  {
   "cell_type": "code",
   "execution_count": 30,
   "metadata": {},
   "outputs": [],
   "source": [
    "def valuation_mapping(valuation: int) -> int:\n",
    "\thalf = sqrt(10)\n",
    "\tscientific: list = '{:e}'.format(valuation).split('e')\n",
    "\ttail: float = float(scientific[0])\n",
    "\tpower: int = int(scientific[1])\n",
    "\tif tail >= half:\n",
    "\t\tpower += 1\n",
    "\n",
    "\treturn power"
   ]
  },
  {
   "cell_type": "code",
   "execution_count": 31,
   "metadata": {},
   "outputs": [],
   "source": [
    "data_set['Last Valuation'] = data_set['Last Valuation'].map(valuation_mapping)"
   ]
  },
  {
   "cell_type": "code",
   "execution_count": 32,
   "metadata": {},
   "outputs": [
    {
     "data": {
      "text/plain": "   Company Name Length  Company Name #Special Char  City  Country  Industry  \\\n0                   19                           0     2        0         7   \n1                    8                           0     0        0         0   \n2                    5                           0     2        0         7   \n3                    4                           0     2        0         7   \n4                   12                           0     2        0         7   \n\n   Investor  Last Valuation  Unicorn  \n0         1               8        0  \n1         7               8        0  \n2         7               9        0  \n3         7               9        1  \n4         7               8        0  ",
      "text/html": "<div>\n<style scoped>\n    .dataframe tbody tr th:only-of-type {\n        vertical-align: middle;\n    }\n\n    .dataframe tbody tr th {\n        vertical-align: top;\n    }\n\n    .dataframe thead th {\n        text-align: right;\n    }\n</style>\n<table border=\"1\" class=\"dataframe\">\n  <thead>\n    <tr style=\"text-align: right;\">\n      <th></th>\n      <th>Company Name Length</th>\n      <th>Company Name #Special Char</th>\n      <th>City</th>\n      <th>Country</th>\n      <th>Industry</th>\n      <th>Investor</th>\n      <th>Last Valuation</th>\n      <th>Unicorn</th>\n    </tr>\n  </thead>\n  <tbody>\n    <tr>\n      <th>0</th>\n      <td>19</td>\n      <td>0</td>\n      <td>2</td>\n      <td>0</td>\n      <td>7</td>\n      <td>1</td>\n      <td>8</td>\n      <td>0</td>\n    </tr>\n    <tr>\n      <th>1</th>\n      <td>8</td>\n      <td>0</td>\n      <td>0</td>\n      <td>0</td>\n      <td>0</td>\n      <td>7</td>\n      <td>8</td>\n      <td>0</td>\n    </tr>\n    <tr>\n      <th>2</th>\n      <td>5</td>\n      <td>0</td>\n      <td>2</td>\n      <td>0</td>\n      <td>7</td>\n      <td>7</td>\n      <td>9</td>\n      <td>0</td>\n    </tr>\n    <tr>\n      <th>3</th>\n      <td>4</td>\n      <td>0</td>\n      <td>2</td>\n      <td>0</td>\n      <td>7</td>\n      <td>7</td>\n      <td>9</td>\n      <td>1</td>\n    </tr>\n    <tr>\n      <th>4</th>\n      <td>12</td>\n      <td>0</td>\n      <td>2</td>\n      <td>0</td>\n      <td>7</td>\n      <td>7</td>\n      <td>8</td>\n      <td>0</td>\n    </tr>\n  </tbody>\n</table>\n</div>"
     },
     "execution_count": 32,
     "metadata": {},
     "output_type": "execute_result"
    }
   ],
   "source": [
    "data_set.head()"
   ]
  },
  {
   "cell_type": "markdown",
   "metadata": {},
   "source": [
    "# Correlation"
   ]
  },
  {
   "cell_type": "code",
   "execution_count": 33,
   "metadata": {},
   "outputs": [],
   "source": [
    "# data_set.drop('Last Valuation', axis=1, inplace=True)\n",
    "data_scaler = preprocessing.MinMaxScaler(feature_range=(0, 1))\n",
    "scaled_data = pd.DataFrame(data_scaler.fit_transform(data_set.drop('Unicorn', axis=1)), columns=data_set.drop('Unicorn', axis=1).columns, dtype=np.float16)\n",
    "scaled_data['Unicorn'] = data_set['Unicorn'].astype(np.int16)"
   ]
  },
  {
   "cell_type": "code",
   "execution_count": 34,
   "metadata": {},
   "outputs": [
    {
     "data": {
      "text/plain": "<AxesSubplot: >"
     },
     "execution_count": 34,
     "metadata": {},
     "output_type": "execute_result"
    },
    {
     "data": {
      "text/plain": "<Figure size 640x480 with 2 Axes>",
      "image/png": "[encoded data removed]"
     },
     "metadata": {},
     "output_type": "display_data"
    }
   ],
   "source": [
    "sb.heatmap(scaled_data.corr(), annot=True)"
   ]
  },
  {
   "cell_type": "markdown",
   "metadata": {},
   "source": [
    "# Training"
   ]
  },
  {
   "cell_type": "code",
   "execution_count": 35,
   "metadata": {},
   "outputs": [
    {
     "name": "stdout",
     "output_type": "stream",
     "text": [
      "<class 'pandas.core.frame.DataFrame'>\n",
      "RangeIndex: 3070 entries, 0 to 3069\n",
      "Data columns (total 8 columns):\n",
      " #   Column                      Non-Null Count  Dtype  \n",
      "---  ------                      --------------  -----  \n",
      " 0   Company Name Length         3070 non-null   float16\n",
      " 1   Company Name #Special Char  3070 non-null   float16\n",
      " 2   City                        3070 non-null   float16\n",
      " 3   Country                     3070 non-null   float16\n",
      " 4   Industry                    3070 non-null   float16\n",
      " 5   Investor                    3070 non-null   float16\n",
      " 6   Last Valuation              3070 non-null   float16\n",
      " 7   Unicorn                     3070 non-null   int16  \n",
      "dtypes: float16(7), int16(1)\n",
      "memory usage: 48.1 KB\n"
     ]
    }
   ],
   "source": [
    "scaled_data.info()"
   ]
  },
  {
   "cell_type": "code",
   "execution_count": 36,
   "metadata": {},
   "outputs": [],
   "source": [
    "max_epoch: int = 75"
   ]
  },
  {
   "cell_type": "code",
   "execution_count": 37,
   "metadata": {},
   "outputs": [
    {
     "name": "stderr",
     "output_type": "stream",
     "text": [
      "Global seed set to 2000\n",
      "GPU available: False, used: False\n",
      "TPU available: False, using: 0 TPU cores\n",
      "IPU available: False, using: 0 IPUs\n",
      "HPU available: False, using: 0 HPUs\n"
     ]
    }
   ],
   "source": [
    "seed_everything(2000, workers=True)\n",
    "classifier = Model.Model()\n",
    "data_loader = Data.DataModule(data=scaled_data)\n",
    "trainer = Trainer(max_epochs=max_epoch, check_val_every_n_epoch=5)"
   ]
  },
  {
   "cell_type": "code",
   "execution_count": 38,
   "metadata": {},
   "outputs": [
    {
     "name": "stdout",
     "output_type": "stream",
     "text": [
      "Model(\n",
      "  (linear_1): Linear(in_features=7, out_features=5, bias=True)\n",
      "  (linear_2): Linear(in_features=5, out_features=1, bias=True)\n",
      "  (activation): Sigmoid()\n",
      "  (loss_fn): BCELoss()\n",
      ")\n"
     ]
    }
   ],
   "source": [
    "print(classifier)"
   ]
  },
  {
   "cell_type": "markdown",
   "metadata": {},
   "source": [
    "# Train"
   ]
  },
  {
   "cell_type": "code",
   "execution_count": 39,
   "metadata": {},
   "outputs": [
    {
     "name": "stderr",
     "output_type": "stream",
     "text": [
      "\n",
      "  | Name       | Type    | Params\n",
      "---------------------------------------\n",
      "0 | linear_1   | Linear  | 40    \n",
      "1 | linear_2   | Linear  | 6     \n",
      "2 | activation | Sigmoid | 0     \n",
      "3 | loss_fn    | BCELoss | 0     \n",
      "---------------------------------------\n",
      "46        Trainable params\n",
      "0         Non-trainable params\n",
      "46        Total params\n",
      "0.000     Total estimated model params size (MB)\n"
     ]
    },
    {
     "data": {
      "text/plain": "Sanity Checking: 0it [00:00, ?it/s]",
      "application/vnd.jupyter.widget-view+json": {
       "version_major": 2,
       "version_minor": 0,
       "model_id": "14b12117cb6646d7bf962e4d51076fb9"
      }
     },
     "metadata": {},
     "output_type": "display_data"
    },
    {
     "data": {
      "text/plain": "Training: 0it [00:00, ?it/s]",
      "application/vnd.jupyter.widget-view+json": {
       "version_major": 2,
       "version_minor": 0,
       "model_id": "4f87003934054fc4a64368a725bb1b95"
      }
     },
     "metadata": {},
     "output_type": "display_data"
    },
    {
     "data": {
      "text/plain": "Validation: 0it [00:00, ?it/s]",
      "application/vnd.jupyter.widget-view+json": {
       "version_major": 2,
       "version_minor": 0,
       "model_id": "de3121b4c3e443ad9853e9d8af1504e7"
      }
     },
     "metadata": {},
     "output_type": "display_data"
    },
    {
     "data": {
      "text/plain": "Validation: 0it [00:00, ?it/s]",
      "application/vnd.jupyter.widget-view+json": {
       "version_major": 2,
       "version_minor": 0,
       "model_id": "5250d7ef16ae4984b41e81d96724c29f"
      }
     },
     "metadata": {},
     "output_type": "display_data"
    },
    {
     "data": {
      "text/plain": "Validation: 0it [00:00, ?it/s]",
      "application/vnd.jupyter.widget-view+json": {
       "version_major": 2,
       "version_minor": 0,
       "model_id": "0c16fc3bf6624b9194114343b5a22d2d"
      }
     },
     "metadata": {},
     "output_type": "display_data"
    },
    {
     "data": {
      "text/plain": "Validation: 0it [00:00, ?it/s]",
      "application/vnd.jupyter.widget-view+json": {
       "version_major": 2,
       "version_minor": 0,
       "model_id": "aceb04ff939d40b7857d026e143f27c2"
      }
     },
     "metadata": {},
     "output_type": "display_data"
    },
    {
     "data": {
      "text/plain": "Validation: 0it [00:00, ?it/s]",
      "application/vnd.jupyter.widget-view+json": {
       "version_major": 2,
       "version_minor": 0,
       "model_id": "5e083314ff7e42edaf8acbf1abfe4b2b"
      }
     },
     "metadata": {},
     "output_type": "display_data"
    },
    {
     "data": {
      "text/plain": "Validation: 0it [00:00, ?it/s]",
      "application/vnd.jupyter.widget-view+json": {
       "version_major": 2,
       "version_minor": 0,
       "model_id": "f5e210d3906a4e6eb7606e1a56eab5dc"
      }
     },
     "metadata": {},
     "output_type": "display_data"
    },
    {
     "data": {
      "text/plain": "Validation: 0it [00:00, ?it/s]",
      "application/vnd.jupyter.widget-view+json": {
       "version_major": 2,
       "version_minor": 0,
       "model_id": "c819b5b0b86c470e8eaee27789fa5e64"
      }
     },
     "metadata": {},
     "output_type": "display_data"
    },
    {
     "data": {
      "text/plain": "Validation: 0it [00:00, ?it/s]",
      "application/vnd.jupyter.widget-view+json": {
       "version_major": 2,
       "version_minor": 0,
       "model_id": "498a02ac08f34547bd206b6f8c1c9911"
      }
     },
     "metadata": {},
     "output_type": "display_data"
    },
    {
     "data": {
      "text/plain": "Validation: 0it [00:00, ?it/s]",
      "application/vnd.jupyter.widget-view+json": {
       "version_major": 2,
       "version_minor": 0,
       "model_id": "b71878e24ce541938bb1467bfc70e8a8"
      }
     },
     "metadata": {},
     "output_type": "display_data"
    },
    {
     "data": {
      "text/plain": "Validation: 0it [00:00, ?it/s]",
      "application/vnd.jupyter.widget-view+json": {
       "version_major": 2,
       "version_minor": 0,
       "model_id": "eaf9cb2b372247fdbe503d3875bee06f"
      }
     },
     "metadata": {},
     "output_type": "display_data"
    },
    {
     "data": {
      "text/plain": "Validation: 0it [00:00, ?it/s]",
      "application/vnd.jupyter.widget-view+json": {
       "version_major": 2,
       "version_minor": 0,
       "model_id": "579d7bb425024b288b06c58abe93fd72"
      }
     },
     "metadata": {},
     "output_type": "display_data"
    },
    {
     "data": {
      "text/plain": "Validation: 0it [00:00, ?it/s]",
      "application/vnd.jupyter.widget-view+json": {
       "version_major": 2,
       "version_minor": 0,
       "model_id": "9d5ab73622e74415a644e6aa8424beee"
      }
     },
     "metadata": {},
     "output_type": "display_data"
    },
    {
     "data": {
      "text/plain": "Validation: 0it [00:00, ?it/s]",
      "application/vnd.jupyter.widget-view+json": {
       "version_major": 2,
       "version_minor": 0,
       "model_id": "8e0a63700c8a4d2cbce45402219af41d"
      }
     },
     "metadata": {},
     "output_type": "display_data"
    },
    {
     "data": {
      "text/plain": "Validation: 0it [00:00, ?it/s]",
      "application/vnd.jupyter.widget-view+json": {
       "version_major": 2,
       "version_minor": 0,
       "model_id": "d18ecf471d5a41279f888453442ec806"
      }
     },
     "metadata": {},
     "output_type": "display_data"
    },
    {
     "data": {
      "text/plain": "Validation: 0it [00:00, ?it/s]",
      "application/vnd.jupyter.widget-view+json": {
       "version_major": 2,
       "version_minor": 0,
       "model_id": "774f39e73ab349f39422abccf4b7f26f"
      }
     },
     "metadata": {},
     "output_type": "display_data"
    },
    {
     "name": "stderr",
     "output_type": "stream",
     "text": [
      "`Trainer.fit` stopped: `max_epochs=75` reached.\n"
     ]
    }
   ],
   "source": [
    "classifier.unfreeze()\n",
    "trainer.fit(classifier, datamodule=data_loader)"
   ]
  },
  {
   "cell_type": "markdown",
   "metadata": {},
   "source": [
    "# Test"
   ]
  },
  {
   "cell_type": "code",
   "execution_count": 40,
   "metadata": {},
   "outputs": [
    {
     "data": {
      "text/plain": "Testing: 0it [00:00, ?it/s]",
      "application/vnd.jupyter.widget-view+json": {
       "version_major": 2,
       "version_minor": 0,
       "model_id": "5ab4259b578f41258e74661bd8901f9b"
      }
     },
     "metadata": {},
     "output_type": "display_data"
    },
    {
     "name": "stdout",
     "output_type": "stream",
     "text": [
      "Test starts\n",
      "Test Accuracy: 89.14%\n",
      "Test ends\n"
     ]
    },
    {
     "data": {
      "text/plain": "┏━━━━━━━━━━━━━━━━━━━━━━━━━━━┳━━━━━━━━━━━━━━━━━━━━━━━━━━━┓\n┃\u001B[1m \u001B[0m\u001B[1m       Test metric       \u001B[0m\u001B[1m \u001B[0m┃\u001B[1m \u001B[0m\u001B[1m      DataLoader 0       \u001B[0m\u001B[1m \u001B[0m┃\n┡━━━━━━━━━━━━━━━━━━━━━━━━━━━╇━━━━━━━━━━━━━━━━━━━━━━━━━━━┩\n│\u001B[36m \u001B[0m\u001B[36m        Accuracy         \u001B[0m\u001B[36m \u001B[0m│\u001B[35m \u001B[0m\u001B[35m   0.8914027214050293    \u001B[0m\u001B[35m \u001B[0m│\n└───────────────────────────┴───────────────────────────┘\n",
      "text/html": "<pre style=\"white-space:pre;overflow-x:auto;line-height:normal;font-family:Menlo,'DejaVu Sans Mono',consolas,'Courier New',monospace\">┏━━━━━━━━━━━━━━━━━━━━━━━━━━━┳━━━━━━━━━━━━━━━━━━━━━━━━━━━┓\n┃<span style=\"font-weight: bold\">        Test metric        </span>┃<span style=\"font-weight: bold\">       DataLoader 0        </span>┃\n┡━━━━━━━━━━━━━━━━━━━━━━━━━━━╇━━━━━━━━━━━━━━━━━━━━━━━━━━━┩\n│<span style=\"color: #008080; text-decoration-color: #008080\">         Accuracy          </span>│<span style=\"color: #800080; text-decoration-color: #800080\">    0.8914027214050293     </span>│\n└───────────────────────────┴───────────────────────────┘\n</pre>\n"
     },
     "metadata": {},
     "output_type": "display_data"
    },
    {
     "data": {
      "text/plain": "[{'Accuracy': 0.8914027214050293}]"
     },
     "execution_count": 40,
     "metadata": {},
     "output_type": "execute_result"
    }
   ],
   "source": [
    "classifier.freeze()\n",
    "trainer.test(classifier, datamodule=data_loader, verbose=True)"
   ]
  },
  {
   "cell_type": "markdown",
   "source": [
    "# Production"
   ],
   "metadata": {
    "collapsed": false
   }
  },
  {
   "cell_type": "code",
   "execution_count": 41,
   "outputs": [],
   "source": [
    "torch.jit.save(classifier.to_torchscript(), 'production.pt')"
   ],
   "metadata": {
    "collapsed": false
   }
  },
  {
   "cell_type": "code",
   "execution_count": 42,
   "outputs": [],
   "source": [],
   "metadata": {
    "collapsed": false
   }
  }
 ],
 "metadata": {
  "kernelspec": {
   "display_name": "Python 3 (ipykernel)",
   "language": "python",
   "name": "python3"
  },
  "language_info": {
   "codemirror_mode": {
    "name": "ipython",
    "version": 2
   },
   "file_extension": ".py",
   "mimetype": "text/x-python",
   "name": "python",
   "nbconvert_exporter": "python",
   "pygments_lexer": "ipython2",
   "version": "2.7.6"
  }
 },
 "nbformat": 4,
 "nbformat_minor": 1
}
