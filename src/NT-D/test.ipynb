{
 "cells": [
  {
   "cell_type": "code",
   "execution_count": 7,
   "metadata": {
    "collapsed": true
   },
   "outputs": [],
   "source": [
    "import json\n",
    "\n",
    "import pandas as pd\n",
    "import requests\n",
    "import torch.jit"
   ]
  },
  {
   "cell_type": "code",
   "execution_count": 8,
   "outputs": [],
   "source": [
    "data = {\n",
    "\t\"name\": \"draggindeeznut\",\n",
    "\t\"name_len\": \"14\",\n",
    "\t\"name_sp\": \"0\",\n",
    "\t\"country\": \"0\",\n",
    "\t\"city\": \"2\",\n",
    "\t\"industry\": \"4\",\n",
    "\t\"investor\": \"2\",\n",
    "\t\"last_valuation\": \"69420\",\n",
    "\t\"feedback\": \"imagine draggin deez nutz on your face\"\n",
    "}"
   ],
   "metadata": {
    "collapsed": false
   }
  },
  {
   "cell_type": "code",
   "execution_count": 9,
   "outputs": [
    {
     "name": "stdout",
     "output_type": "stream",
     "text": [
      "tensor([[14.,  0.,  0.,  2.,  4.,  2., 69.]])\n"
     ]
    },
    {
     "data": {
      "text/plain": "tensor([[1.]])"
     },
     "execution_count": 9,
     "metadata": {},
     "output_type": "execute_result"
    }
   ],
   "source": [
    "from sklearn import preprocessing\n",
    "import numpy\n",
    "\n",
    "data_set = pd.read_csv('data/train_data.csv', encoding='utf-8')\n",
    "data_set.drop('Unicorn', axis=1, inplace=True)\n",
    "row = numpy.array([14, 0, 0, 2, 4, 2, 69], dtype=numpy.float16).reshape(1, -1)\n",
    "row = torch.Tensor(row)\n",
    "print(row)\n",
    "model = torch.jit.load('docker_image_src/production.pt')\n",
    "model(row)\n"
   ],
   "metadata": {
    "collapsed": false
   }
  }
 ],
 "metadata": {
  "kernelspec": {
   "display_name": "Python 3",
   "language": "python",
   "name": "python3"
  },
  "language_info": {
   "codemirror_mode": {
    "name": "ipython",
    "version": 2
   },
   "file_extension": ".py",
   "mimetype": "text/x-python",
   "name": "python",
   "nbconvert_exporter": "python",
   "pygments_lexer": "ipython2",
   "version": "2.7.6"
  }
 },
 "nbformat": 4,
 "nbformat_minor": 0
}
