{
 "cells": [
  {
   "cell_type": "code",
   "execution_count": 148,
   "metadata": {
    "collapsed": true
   },
   "outputs": [],
   "source": [
    "import json\n",
    "import requests"
   ]
  },
  {
   "cell_type": "code",
   "execution_count": 149,
   "outputs": [],
   "source": [
    "data = {\n",
    "\t\"name\": \"draggindeeznut\",\n",
    "\t\"name_len\": \"14\",\n",
    "\t\"name_sp\": \"0\",\n",
    "\t\"country\": \"0\",\n",
    "\t\"city\": \"2\",\n",
    "\t\"industry\": \"4\",\n",
    "\t\"investor\": \"2\",\n",
    "\t\"last_valuation\": \"69420\",\n",
    "\t\"feedback\": \"imagine draggin deez nutz on your face\"\n",
    "}"
   ],
   "metadata": {
    "collapsed": false
   }
  },
  {
   "cell_type": "code",
   "execution_count": 150,
   "outputs": [
    {
     "data": {
      "text/plain": "<Response [503]>"
     },
     "execution_count": 150,
     "metadata": {},
     "output_type": "execute_result"
    }
   ],
   "source": [
    "quest = requests.post('http://localhost:8080/predictions/NT-D', data=json.dumps(data))\n",
    "quest\n"
   ],
   "metadata": {
    "collapsed": false
   }
  }
 ],
 "metadata": {
  "kernelspec": {
   "display_name": "Python 3",
   "language": "python",
   "name": "python3"
  },
  "language_info": {
   "codemirror_mode": {
    "name": "ipython",
    "version": 2
   },
   "file_extension": ".py",
   "mimetype": "text/x-python",
   "name": "python",
   "nbconvert_exporter": "python",
   "pygments_lexer": "ipython2",
   "version": "2.7.6"
  }
 },
 "nbformat": 4,
 "nbformat_minor": 0
}
