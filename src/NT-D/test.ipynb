{
 "cells": [
  {
   "cell_type": "code",
   "execution_count": 1,
   "metadata": {
    "collapsed": true
   },
   "outputs": [],
   "source": [
    "import json\n",
    "\n",
    "import pandas as pd\n",
    "import requests\n",
    "import torch.jit"
   ]
  },
  {
   "cell_type": "code",
   "execution_count": 2,
   "metadata": {
    "collapsed": false
   },
   "outputs": [],
   "source": [
    "data = {\n",
    "\t\"name\": \"draggindeeznut\",\n",
    "\t\"name_len\": \"14\",\n",
    "\t\"name_sp\": \"0\",\n",
    "\t\"country\": \"0\",\n",
    "\t\"city\": \"2\",\n",
    "\t\"industry\": \"4\",\n",
    "\t\"investor\": \"2\",\n",
    "\t\"last_valuation\": \"69420\",\n",
    "\t\"feedback\": \"imagine draggin deez nutz on your face\"\n",
    "}"
   ]
  },
  {
   "cell_type": "code",
   "execution_count": 3,
   "outputs": [
    {
     "data": {
      "text/plain": "dict"
     },
     "execution_count": 3,
     "metadata": {},
     "output_type": "execute_result"
    }
   ],
   "source": [
    "request = requests.post('http://localhost:8080/predictions/NT-D', data=json.dumps(data))\n",
    "type(request.json())"
   ],
   "metadata": {
    "collapsed": false
   }
  },
  {
   "cell_type": "code",
   "execution_count": 4,
   "metadata": {
    "collapsed": false
   },
   "outputs": [
    {
     "name": "stdout",
     "output_type": "stream",
     "text": [
      "tensor([[14.,  0.,  0.,  2.,  4.,  2.,  5.]])\n"
     ]
    },
    {
     "data": {
      "text/plain": "tensor([[0.9510]])"
     },
     "execution_count": 4,
     "metadata": {},
     "output_type": "execute_result"
    }
   ],
   "source": [
    "from sklearn import preprocessing\n",
    "import numpy\n",
    "\n",
    "data_set = pd.read_csv('data/train_data.csv', encoding='utf-8')\n",
    "data_set.drop('Unicorn', axis=1, inplace=True)\n",
    "row = numpy.array([14, 0, 0, 2, 4, 2, 5], dtype=numpy.int32).reshape(1, -1)\n",
    "row = torch.Tensor(row)\n",
    "print(row)\n",
    "model = torch.jit.load('docker_image_src/production.pt')\n",
    "model(row)\n"
   ]
  }
 ],
 "metadata": {
  "kernelspec": {
   "display_name": "ML",
   "language": "python",
   "name": "python3"
  },
  "language_info": {
   "codemirror_mode": {
    "name": "ipython",
    "version": 3
   },
   "file_extension": ".py",
   "mimetype": "text/x-python",
   "name": "python",
   "nbconvert_exporter": "python",
   "pygments_lexer": "ipython3",
   "version": "3.9.15"
  },
  "vscode": {
   "interpreter": {
    "hash": "e8eb84b55d576aa67a6c0bf07fabd0a53cabe857b9e61aac5bc06e31f0bdbba1"
   }
  }
 },
 "nbformat": 4,
 "nbformat_minor": 0
}
